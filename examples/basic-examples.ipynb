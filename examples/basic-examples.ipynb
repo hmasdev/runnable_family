{
 "cells": [
  {
   "cell_type": "markdown",
   "metadata": {},
   "source": [
    "# Basic Usage of runnable_family"
   ]
  },
  {
   "cell_type": "markdown",
   "metadata": {},
   "source": [
    "This notebook describes the basic usage of the `runnable_family` package.\n",
    "This package provides utilities implemented according to the `Runnable` protocol of `langchain`.\n",
    "This notebook will give you an idea of what `langchain` components you can build with the `runnable_family` package."
   ]
  },
  {
   "cell_type": "markdown",
   "metadata": {},
   "source": [
    "## Preparation"
   ]
  },
  {
   "cell_type": "markdown",
   "metadata": {},
   "source": [
    "First of all, you need to setup a virtual environment.\n",
    "\n",
    "`setup.sh` helps you setup.\n",
    "\n",
    "Altenatively,\n",
    "\n",
    "```bash\n",
    "python -m venv venv\n",
    "venv/bin/python -m pip install -e ..[openai]\n",
    "venv/bin/python -m pip install jupyter jupyterlab ipykernel\n",
    "echo \"OPENAI_API_KEY={HERE_IS_YOUR_API_KEY}\" > .env\n",
    "```"
   ]
  },
  {
   "cell_type": "markdown",
   "metadata": {},
   "source": [
    "## Libs"
   ]
  },
  {
   "cell_type": "code",
   "execution_count": 1,
   "metadata": {},
   "outputs": [],
   "source": [
    "from datetime import datetime as dt\n",
    "from collections import Counter\n",
    "from operator import attrgetter\n",
    "\n",
    "from dotenv import load_dotenv\n",
    "from langchain_core.runnables import RunnableLambda, RunnablePassthrough\n",
    "from langchain_openai import ChatOpenAI\n",
    "from langchain.output_parsers import PydanticOutputParser\n",
    "from langchain.pydantic_v1 import BaseModel\n",
    "from langchain.prompts import ChatPromptTemplate\n",
    "\n",
    "from runnable_family.basic import RunnableConstant, RunnableAdd\n",
    "from runnable_family.loopback import RunnableLoopback\n",
    "from runnable_family.gacha import RunnableGacha\n",
    "from runnable_family.runnable_diff import RunnableDiff\n",
    "from runnable_family.self_consistent import RunnableSelfConsistent\n",
    "from runnable_family.self_refine import RunnableSelfRefine\n",
    "from runnable_family.self_translate import RunnableSelfTranslate"
   ]
  },
  {
   "cell_type": "code",
   "execution_count": 2,
   "metadata": {},
   "outputs": [
    {
     "data": {
      "text/plain": [
       "True"
      ]
     },
     "execution_count": 2,
     "metadata": {},
     "output_type": "execute_result"
    }
   ],
   "source": [
    "load_dotenv()"
   ]
  },
  {
   "cell_type": "markdown",
   "metadata": {},
   "source": [
    "## Example"
   ]
  },
  {
   "cell_type": "markdown",
   "metadata": {},
   "source": [
    "### `runnable_family.basic`\n",
    "\n",
    "This subpackage provides basic utilities for the `Runnable` protocol which are expected to be used in anothre class in `runnable_family`."
   ]
  },
  {
   "cell_type": "markdown",
   "metadata": {},
   "source": [
    "The most fundamental class in this subpackage is `RunnableConstant`.\n",
    "\n",
    "This class is a `Runnable` class which outputs a constant value for any inputs."
   ]
  },
  {
   "cell_type": "code",
   "execution_count": 3,
   "metadata": {},
   "outputs": [
    {
     "name": "stdout",
     "output_type": "stream",
     "text": [
      "runnable_constant.invoke(None) =  1\n",
      "runnable_constant.invoke(2) =  1\n"
     ]
    }
   ],
   "source": [
    "runnable_constant = RunnableConstant(constant=1)\n",
    "print('runnable_constant.invoke(None) = ', runnable_constant.invoke(None))\n",
    "print('runnable_constant.invoke(2) = ', runnable_constant.invoke(2))"
   ]
  },
  {
   "cell_type": "markdown",
   "metadata": {},
   "source": [
    "Here is another fundamental class, `RunnableAdd`.\n",
    "\n",
    "This class is a `Runnable` class which add a constant value to the input value."
   ]
  },
  {
   "cell_type": "code",
   "execution_count": 4,
   "metadata": {},
   "outputs": [
    {
     "name": "stdout",
     "output_type": "stream",
     "text": [
      "runnable_add.invoke(10) =  11\n",
      "runnable_add.invoke(100) =  101\n"
     ]
    }
   ],
   "source": [
    "runnable_add = RunnableAdd(constant=1)\n",
    "print('runnable_add.invoke(10) = ', runnable_add.invoke(10))\n",
    "print('runnable_add.invoke(100) = ', runnable_add.invoke(100))"
   ]
  },
  {
   "cell_type": "markdown",
   "metadata": {},
   "source": [
    "Note that you can specify the order of addition with `left` argument.\n",
    "\n",
    "If `left` is True, which is the default value, an instance of `RunnableAdd` adds the constant value to the input value from the right side.\n",
    "\n",
    "In other words, the `left` argument can be interpreted as a parameter that controls whether the input value is counted from the left to a constant value."
   ]
  },
  {
   "cell_type": "code",
   "execution_count": 5,
   "metadata": {},
   "outputs": [
    {
     "name": "stdout",
     "output_type": "stream",
     "text": [
      "runnable_add_left.invoke(\"A\") =  Aa\n",
      "runnable_add_right.invoke(\"A\") =  aA\n"
     ]
    }
   ],
   "source": [
    "runnable_add_left = RunnableAdd(constant='a', left=True)\n",
    "runnable_add_right = RunnableAdd(constant='a', left=False)\n",
    "\n",
    "print(f'runnable_add_left.invoke(\"A\") = ', runnable_add_left.invoke('A'))\n",
    "print(f'runnable_add_right.invoke(\"A\") = ', runnable_add_right.invoke('A'))"
   ]
  },
  {
   "cell_type": "markdown",
   "metadata": {},
   "source": [
    "### `runnable_family.loopback`\n",
    "\n",
    "This subpackage provides `RunnableLoopback`, which enables to loopback the output of a `Runnable` class to the input of the same class.\n",
    "\n",
    "Because such a runnable is not provided in `langchain`, `RunnableLoopback` is one of the central classes in `runnable_family`."
   ]
  },
  {
   "cell_type": "markdown",
   "metadata": {},
   "source": [
    "Here is an example of `RunnableLoopback`.\n",
    "\n",
    "This example provides a `Runnable` class which counts up the input value by 1."
   ]
  },
  {
   "cell_type": "code",
   "execution_count": 6,
   "metadata": {},
   "outputs": [],
   "source": [
    "runnable_loopback = RunnableLoopback(\n",
    "    runnable=(\n",
    "        RunnableAdd(constant=1)  # calulate x + 1 where x is the input\n",
    "        | RunnableLambda(lambda x: print(f'current output of the runnable: {x}') or x)  # print x and return x\n",
    "    ),\n",
    "    condition=RunnableLambda(lambda y: y < 10),  # only loopback if y < 10 where y is the output of the runnable\n",
    "    loopback=RunnablePassthrough(),  # runnable which transform the output of the runnable to the input of the runnable\n",
    ")"
   ]
  },
  {
   "cell_type": "code",
   "execution_count": 7,
   "metadata": {},
   "outputs": [
    {
     "name": "stdout",
     "output_type": "stream",
     "text": [
      "current output of the runnable: 1\n",
      "current output of the runnable: 2\n",
      "current output of the runnable: 3\n",
      "current output of the runnable: 4\n",
      "current output of the runnable: 5\n",
      "current output of the runnable: 6\n",
      "current output of the runnable: 7\n",
      "current output of the runnable: 8\n",
      "current output of the runnable: 9\n",
      "current output of the runnable: 10\n"
     ]
    },
    {
     "data": {
      "text/plain": [
       "10"
      ]
     },
     "execution_count": 7,
     "metadata": {},
     "output_type": "execute_result"
    }
   ],
   "source": [
    "runnable_loopback.invoke(0)"
   ]
  },
  {
   "cell_type": "markdown",
   "metadata": {},
   "source": [
    "`get_graph` method helps you understand the structure of `RunnableLoopback`."
   ]
  },
  {
   "cell_type": "code",
   "execution_count": 8,
   "metadata": {},
   "outputs": [
    {
     "name": "stdout",
     "output_type": "stream",
     "text": [
      "                                   +---------------+                          \n",
      "                                   | LoopbackInput |                          \n",
      "                                   +---------------+                          \n",
      "                                            *                                 \n",
      "                                            *                                 \n",
      "                                            *                                 \n",
      "                                    +------------+                            \n",
      "                                    | _add_input |**                          \n",
      "                                    +------------+  ******                    \n",
      "                                 ***                      *****               \n",
      "                              ***                              *****          \n",
      "                            **                                      ******    \n",
      "                  +--------------+                                        *** \n",
      "                  | Lambda(_add) |                                          * \n",
      "                  +--------------+                                          * \n",
      "                          *                                                 * \n",
      "                          *                                                 * \n",
      "                          *                                                 * \n",
      "                  +-------------+                                           * \n",
      "                  | Lambda(...) |                                           * \n",
      "                  +-------------+                                           * \n",
      "                          *                                                 * \n",
      "                          *                                                 * \n",
      "                          *                                                 * \n",
      "                  +--------------+                                          * \n",
      "                  | LambdaOutput |                                          * \n",
      "                  +--------------+                                          * \n",
      "                          *                                                 * \n",
      "                          *                                                 * \n",
      "                          *                                                 * \n",
      "                  +-------------+                                           * \n",
      "                  | LambdaInput |                                           * \n",
      "                  +-------------+                                           * \n",
      "                          *                                                 * \n",
      "                          *                                                 * \n",
      "                          *                                                 * \n",
      "            +--------------------------+                                    * \n",
      "            | Lambda(lambda y: y < 10) |                                    * \n",
      "            +--------------------------+                                    * \n",
      "                          *                                                 * \n",
      "                          *                                                 * \n",
      "                          *                                                 * \n",
      "                  +--------------+                                          * \n",
      "                  | LambdaOutput |                                          * \n",
      "                  +--------------+                                          * \n",
      "                 **              **                                         * \n",
      "              ***                  ***                                      * \n",
      "            **                        **                                    * \n",
      "+----------------+              +------------------+                        * \n",
      "| LoopbackOutput |              | PassthroughInput |                        * \n",
      "+----------------+              +------------------+                        * \n",
      "                                          *                                 * \n",
      "                                          *                                 * \n",
      "                                          *                                 * \n",
      "                                  +-------------+                          ** \n",
      "                                  | Passthrough |                        **   \n",
      "                                  +-------------+*                    ***     \n",
      "                                                  ***              ***        \n",
      "                                                     ***         **           \n",
      "                                                        **     **             \n",
      "                                                  +-------------------+       \n",
      "                                                  | PassthroughOutput |       \n",
      "                                                  +-------------------+       \n"
     ]
    }
   ],
   "source": [
    "print(runnable_loopback.get_graph().draw_ascii())"
   ]
  },
  {
   "cell_type": "markdown",
   "metadata": {},
   "source": [
    "`RunnableLoopback` also provides a class method which create an instance of `RunnableLoopback` with a specified number of loopbacks.\n",
    "\n",
    "The following example let you know how to create a runnable which prints the current time 5 times."
   ]
  },
  {
   "cell_type": "code",
   "execution_count": 9,
   "metadata": {},
   "outputs": [],
   "source": [
    "runnable_loopback_with_n_times = RunnableLoopback.with_n_loop(\n",
    "    n=5,\n",
    "    runnable=(\n",
    "        RunnableLambda(lambda *args: dt.now())  # get the current time\n",
    "        | RunnableLambda(lambda x: print(f'current output of the runnable: {x}') or x)  # print x and return x\n",
    "    ),\n",
    "    loopback=RunnablePassthrough(),  # runnable which transform the output of the runnable to the input of the runnable\n",
    ")"
   ]
  },
  {
   "cell_type": "code",
   "execution_count": 10,
   "metadata": {},
   "outputs": [
    {
     "name": "stdout",
     "output_type": "stream",
     "text": [
      "current output of the runnable: 2024-04-14 23:36:33.747855\n",
      "current output of the runnable: 2024-04-14 23:36:34.002724\n",
      "current output of the runnable: 2024-04-14 23:36:34.273884\n"
     ]
    },
    {
     "name": "stdout",
     "output_type": "stream",
     "text": [
      "current output of the runnable: 2024-04-14 23:36:34.501078\n",
      "current output of the runnable: 2024-04-14 23:36:34.733077\n"
     ]
    },
    {
     "data": {
      "text/plain": [
       "datetime.datetime(2024, 4, 14, 23, 36, 34, 733077)"
      ]
     },
     "execution_count": 10,
     "metadata": {},
     "output_type": "execute_result"
    }
   ],
   "source": [
    "runnable_loopback_with_n_times.invoke(1)"
   ]
  },
  {
   "cell_type": "markdown",
   "metadata": {},
   "source": [
    "### `runnable_family.gacha`\n",
    "\n",
    "This subpackage provides `RunnableGacha`.\n",
    "\n",
    "`RunnableGacha` helps you run a stochastic runnable like `ChatOpenAI` without `seed` many times."
   ]
  },
  {
   "cell_type": "markdown",
   "metadata": {},
   "source": [
    "The following example shows how to run `ChatOpenAI(model='gpt-4-turbo', temperature=1).invoke` 3 times."
   ]
  },
  {
   "cell_type": "code",
   "execution_count": 11,
   "metadata": {},
   "outputs": [],
   "source": [
    "runnable_gacha = RunnableGacha(\n",
    "    runnable=(\n",
    "        ChatOpenAI(model='gpt-4-turbo', temperature=1)\n",
    "        | RunnableLambda(attrgetter('content'))\n",
    "    ),\n",
    "    n=3,\n",
    ")"
   ]
  },
  {
   "cell_type": "code",
   "execution_count": 12,
   "metadata": {},
   "outputs": [],
   "source": [
    "runnable_gacha.invoke('What is the meaning of life?')"
   ]
  },
  {
   "cell_type": "markdown",
   "metadata": {},
   "source": [
    "### `runnable_family.runnable_diff`\n",
    "\n",
    "This subpackage provides `RunnableDiff`.\n",
    "\n",
    "`RunnableDiff` helps you compare the outputs of two runnables."
   ]
  },
  {
   "cell_type": "markdown",
   "metadata": {},
   "source": [
    "Here is an example that points out the shortcomings of the output of 'gpt-3.5-turbo' relative to the output of 'gpt-4-turbo'."
   ]
  },
  {
   "cell_type": "code",
   "execution_count": null,
   "metadata": {},
   "outputs": [],
   "source": [
    "runnable_diff = RunnableDiff(\n",
    "    runnable1=(\n",
    "        ChatOpenAI(model='gpt-4-turbo', temperature=0.8, model_kwargs={'seed': 1000})\n",
    "        | RunnableLambda(attrgetter('content'))\n",
    "    ),\n",
    "    runnable2=(\n",
    "        ChatOpenAI(model='gpt-3.5-turbo', temperature=0.8, model_kwargs={'seed': 1000})\n",
    "        | RunnableLambda(attrgetter('content'))\n",
    "    ),\n",
    "    diff=(\n",
    "        RunnableLambda(lambda itr: '\\n'.join([\n",
    "            f'1. ```\\n{itr[0]}\\n```',\n",
    "            f'2. ```\\n{itr[1]}\\n```',\n",
    "            '\\n',\n",
    "            'The former is thought to be better than the latter.',\n",
    "            'What do you think is insufficient in the latter?',\n",
    "        ]))\n",
    "        | RunnableLambda(lambda x: print(x) or x)\n",
    "        | ChatOpenAI(model='gpt-4-turbo', temperature=0.8, model_kwargs={'seed': 1234})\n",
    "    )\n",
    ")"
   ]
  },
  {
   "cell_type": "code",
   "execution_count": null,
   "metadata": {},
   "outputs": [
    {
     "name": "stdout",
     "output_type": "stream",
     "text": [
      "1. ```\n",
      "The question of the meaning of life has been a central topic in philosophy, religion, and science for centuries, and it encompasses a broad spectrum of perspectives.\n",
      "\n",
      "1. **Philosophical Perspectives**: Philosophers have long debated the meaning of life, with various schools of thought providing different answers. Existentialists like Sartre and Camus suggest that life inherently has no meaning, and it's up to individuals to create their own meaning through choices and actions. In contrast, philosophers like Aristotle believed that the meaning of life is found in fulfilling one's potential and living a life of virtue and reason.\n",
      "\n",
      "2. **Religious Perspectives**: Most world religions offer their own answers to the meaning of life:\n",
      "   - **Christianity** often teaches that life's meaning is to love and serve God and to prepare for eternal life after death.\n",
      "   - **Islam** teaches that the purpose of life is to worship Allah and to live according to the Quran's teachings, preparing for the life hereafter.\n",
      "   - **Hinduism** suggests that life's purpose can be understood in terms of dharma (duty, morality, virtue), artha (prosperity, economic values), kama (desire, sexuality, emotional fulfillment), and moksha (liberation from the cycle of Samsara).\n",
      "   - **Buddhism** focuses on overcoming suffering through ethical living, mental and spiritual development, and wisdom, ultimately aiming for enlightenment or Nirvana.\n",
      "\n",
      "3. **Scientific Perspectives**: From a biological standpoint, the meaning of life could be seen as survival and reproduction, passing genetic material to the next generation. Evolutionary theory points to the perpetuation of species as a fundamental driver of natural processes.\n",
      "\n",
      "4. **Personal Interpretations**: For many, the meaning of life is more personal and can be about finding happiness, growing emotionally and intellectually, building relationships, and making a positive impact on society and the environment.\n",
      "\n",
      "Ultimately, the meaning of life varies from person to person, culture to culture, and belief system to belief system. Many find that this question may be more about the journey of exploration itself, rather than arriving at a single, definitive answer.\n",
      "```\n",
      "2. ```\n",
      "The meaning of life is a deeply philosophical question that has been debated for centuries. Different cultures, religions, and individuals have different beliefs about the purpose and significance of life. Some believe that the meaning of life is to seek happiness, fulfillment, or spiritual enlightenment, while others believe that life has no inherent meaning and that each individual must create their own meaning. Ultimately, the meaning of life is a personal and subjective concept that can vary greatly from person to person.\n",
      "```\n",
      "\n",
      "\n",
      "The former is thought to be better than the latter.\n",
      "What do you think is insufficient in the latter?\n",
      "content='The latter text, while succinct and general in nature, lacks several key elements that make the former text more comprehensive and engaging:\\n\\n1. **Detail and Depth**: The former text delves into specifics with examples from various philosophical and religious perspectives. It provides concrete examples such as the views of existentialists, Aristotle, and specific religious teachings from Christianity, Islam, Hinduism, and Buddhism. This not only enriches the content but also gives readers a clearer understanding of how diverse the interpretations of life’s meaning can be.\\n\\n2. **Scope and Variety**: The first text covers a broader range of perspectives, including philosophical, religious, scientific, and personal interpretations. This variety caters to a wider audience and acknowledges the complexity of the question. In contrast, the latter text is more vague, mentioning only a few general categories without delving into any one area with depth or providing illustrative examples.\\n\\n3. **Contextual and Cultural References**: The extensive detailing in the first text of different cultural and religious beliefs provides a contextual background that helps in understanding the differing viewpoints globally. This contextual depth is missing in the second text, which only briefly mentions that different cultures and religions have varying beliefs.\\n\\n4. **Purpose and Engagement**: The first text not only informs but also engages the reader by presenting the complexity and depth of the question across different frameworks. It invites the reader to consider multiple viewpoints. The latter text, while accurate, does not engage deeply with the material or encourage further exploration of the topic.\\n\\n5. **Implications and Conclusions**: The first text concludes by suggesting that the meaning of life could be more about the exploration of these diverse viewpoints rather than finding a definitive answer, which is a philosophically rich implication. The latter text ends on a more simplistic note, which while valid, does not inspire much further thought or discussion.\\n\\nOverall, the former text provides a richer, more detailed, and engaging exploration of the topic, which is likely why it is considered better than the latter.' response_metadata={'token_usage': {'completion_tokens': 397, 'prompt_tokens': 568, 'total_tokens': 965}, 'model_name': 'gpt-4-turbo', 'system_fingerprint': 'fp_76f018034d', 'finish_reason': 'stop', 'logprobs': None} id='run-ac251ce8-301f-444b-a758-d1289ad3ac86-0'\n"
     ]
    }
   ],
   "source": [
    "print(runnable_diff.invoke('What is the meaning of life?').content)"
   ]
  },
  {
   "cell_type": "markdown",
   "metadata": {},
   "source": [
    "### `runnable_family.self_consistent`\n",
    "\n",
    "This subpackage provides `RunnableSelfConsistent`.\n",
    "\n",
    "`RunnableSelfConsistent` is a `Runnable` class which implements \"self-consisntent\" approach.\n",
    "\n",
    "\"self-consisntent\" approach, suggested in https://arxiv.org/pdf/2203.11171.pdf, selects the most consistent answer by marginalizing out a diverse set of reasoning paths."
   ]
  },
  {
   "cell_type": "markdown",
   "metadata": {},
   "source": [
    "The following example is equievalent to the example in Figure 1 in https://arxiv.org/pdf/2203.11171.pdf ."
   ]
  },
  {
   "cell_type": "code",
   "execution_count": null,
   "metadata": {},
   "outputs": [],
   "source": [
    "class IntegerAnswer(BaseModel):\n",
    "    answer: int\n",
    "\n",
    "\n",
    "output_parser = PydanticOutputParser(pydantic_object=IntegerAnswer)\n",
    "prompt = ChatPromptTemplate.from_messages([\n",
    "    (\"system\", '{format_instruction}'),\n",
    "    (\"human\", \"{input}\"),\n",
    "])\n",
    "\n",
    "runnable_self_consistent = (\n",
    "    RunnablePassthrough().assign(format_instruction=RunnableConstant(output_parser.get_format_instructions()))\n",
    "    | prompt\n",
    "    | RunnableSelfConsistent(\n",
    "        runnables=[\n",
    "            ChatOpenAI(model='gpt-4-turbo', temperature=0.8, model_kwargs={'seed': 1000}) | output_parser | RunnableLambda(attrgetter('answer')),\n",
    "            ChatOpenAI(model='gpt-4-turbo', temperature=0.8, model_kwargs={'seed': 1235}) | output_parser | RunnableLambda(attrgetter('answer')),\n",
    "            ChatOpenAI(model='gpt-3.5-turbo', temperature=0.8, model_kwargs={'seed': 2500}) | output_parser | RunnableLambda(attrgetter('answer')),\n",
    "        ],\n",
    "        aggregate=(\n",
    "            RunnableLambda(lambda itr: print(itr) or itr)  # print the outputs of the runnables\n",
    "            | RunnableLambda(lambda itr: Counter(itr).most_common(1)[0][0])  # count the most common answer\n",
    "        ),\n",
    "    )\n",
    ")"
   ]
  },
  {
   "cell_type": "code",
   "execution_count": null,
   "metadata": {},
   "outputs": [
    {
     "name": "stdout",
     "output_type": "stream",
     "text": [
      "[18, 18, 10]\n"
     ]
    },
    {
     "data": {
      "text/plain": [
       "18"
      ]
     },
     "execution_count": 16,
     "metadata": {},
     "output_type": "execute_result"
    }
   ],
   "source": [
    "runnable_self_consistent.invoke(dict(input='\\n'.join([\n",
    "    'Q: If there are 3 cars in the parking lot and 2 more cars arrive, how many cars are in the parking lot?',\n",
    "    'A: There are 3 cars in the parking lot already. 2 more arrive. Now there are 3 + 2 = 5 cars. The answer is 5.',\n",
    "    '\\n',\n",
    "    'Q: Janet\\'s ducks lay 16 eggs per day. '\n",
    "    'She eats three for breakfast every morning and bakes muffins for her friends every day with four. '\n",
    "    'She sells the remainder for $2 per egg. How much does she make every day?',\n",
    "    'A: ',\n",
    "])))"
   ]
  },
  {
   "cell_type": "markdown",
   "metadata": {},
   "source": [
    "### `runnable_family.self_refine`\n",
    "\n",
    "This subpackage provides `RunnableSelfRefine`.\n",
    "\n",
    "`RunnableSelfRefine` is a `Runnable` which implements 'self-refine' approach, suggested in https://arxiv.org/pdf/2303.17651.pdf .\n",
    "\n",
    "`RunnableSelfRefine` helps you refine the output automatically."
   ]
  },
  {
   "cell_type": "markdown",
   "metadata": {},
   "source": [
    "The following example is similar to the example in Figure 1 (d)(e)(f) in https://arxiv.org/pdf/2303.17651.pdf .\n",
    "\n",
    "In this example, after generating a python code to calculate the sum of 1 to $n$, it is automatically refined in a point of view of the efficiency."
   ]
  },
  {
   "cell_type": "code",
   "execution_count": null,
   "metadata": {},
   "outputs": [],
   "source": [
    "runnable_self_refine = RunnableSelfRefine(\n",
    "    runnable=(\n",
    "        ChatOpenAI(model='gpt-3.5-turbo', temperature=0.8, model_kwargs={'seed': 1000})\n",
    "        | RunnableLambda(lambda x: print('==========\\n'+x.content) or x)  # print the output\n",
    "    ),\n",
    "    feedback=(\n",
    "        ChatPromptTemplate.from_messages([(\n",
    "            'human',\n",
    "            '\\n'.join([\n",
    "                'The user requires a code that satisfies the following',\n",
    "                '```',\n",
    "                '{input}',\n",
    "                '```',\n",
    "                'The service is attempting to return the following code in response to the above request:',\n",
    "                '```',\n",
    "                '{output}',\n",
    "                '```',\n",
    "                '\\n',\n",
    "                'Please point out the issues with this code in terms of computational efficiency.',\n",
    "            ])\n",
    "        )])\n",
    "        | ChatOpenAI(model='gpt-3.5-turbo', temperature=0.8, model_kwargs={'seed': 1234})\n",
    "        | RunnableLambda(lambda x: print('==========\\n'+x.content) or x)  # print the feedback\n",
    "    ),\n",
    "    refine=(\n",
    "        ChatPromptTemplate.from_messages([(\n",
    "            'human',\n",
    "            '\\n'.join([\n",
    "                'The user requires a code that satisfies the following',\n",
    "                '```',\n",
    "                '{input}',\n",
    "                '```',\n",
    "                'The service is attempting to return the following code in response to the above request:',\n",
    "                '```',\n",
    "                '{output}',\n",
    "                '```',\n",
    "                'For the above output code, the user give the following feedback:',\n",
    "                '```',\n",
    "                '{feedback}',\n",
    "                '```',\n",
    "                '\\n',\n",
    "                'Please refine the code to address the user\\'s feedback.',\n",
    "            ])\n",
    "        )])\n",
    "        | ChatOpenAI(model='gpt-3.5-turbo', temperature=0.8, model_kwargs={'seed': 1234})\n",
    "        | RunnableLambda(lambda x: print('==========\\n'+x.content) or x)  # print the refined code\n",
    "    ),\n",
    "    input_key='input',  # key to access the input. In this case, the default value will be used.\n",
    "    output_key='output',  # key to access the output. In this case, the default value will be used.\n",
    "    feedback_key='feedback',  # key to access the feedback. In this case, the default value will be used.\n",
    ") | RunnableLambda(attrgetter('content'))"
   ]
  },
  {
   "cell_type": "code",
   "execution_count": null,
   "metadata": {},
   "outputs": [
    {
     "name": "stdout",
     "output_type": "stream",
     "text": [
      "==========\n",
      "```python\n",
      "def calculate_sum(n):\n",
      "    sum = 0\n",
      "    for i in range(1, n+1):\n",
      "        sum += i\n",
      "    return sum\n",
      "\n",
      "n = int(input(\"Enter a number: \"))\n",
      "result = calculate_sum(n)\n",
      "print(\"The sum of 1 to\", n, \"is:\", result)\n",
      "```\n",
      "\n",
      "This code defines a function `calculate_sum` that takes an integer `n` as input and calculates the sum of numbers from 1 to `n`. It then takes user input for `n`, calls the function with the input value, and prints the result.\n",
      "==========\n",
      "The code provided is inefficient in terms of computational efficiency because it uses a loop to calculate the sum of numbers from 1 to n. This results in a time complexity of O(n) because the loop iterates n times.\n",
      "\n",
      "A more efficient approach would be to use a mathematical formula to directly calculate the sum of numbers from 1 to n. The formula for the sum of an arithmetic series is (n*(n+1))/2. This approach has a time complexity of O(1), which is much more efficient than using a loop.\n",
      "\n",
      "Therefore, it would be better to replace the loop in the code with the mathematical formula to improve the computational efficiency.\n",
      "==========\n",
      "Here is the refined code that incorporates the more efficient mathematical formula for calculating the sum of numbers from 1 to n:\n",
      "\n",
      "```python\n",
      "def calculate_sum(n):\n",
      "    return (n * (n + 1)) // 2\n",
      "\n",
      "n = int(input(\"Enter a number: \"))\n",
      "result = calculate_sum(n)\n",
      "print(\"The sum of 1 to\", n, \"is:\", result)\n",
      "```\n",
      "\n",
      "This updated code uses the mathematical formula `(n*(n+1))/2` to directly calculate the sum of numbers from 1 to n, resulting in improved computational efficiency with a time complexity of O(1).\n"
     ]
    },
    {
     "data": {
      "text/plain": [
       "'Here is the refined code that incorporates the more efficient mathematical formula for calculating the sum of numbers from 1 to n:\\n\\n```python\\ndef calculate_sum(n):\\n    return (n * (n + 1)) // 2\\n\\nn = int(input(\"Enter a number: \"))\\nresult = calculate_sum(n)\\nprint(\"The sum of 1 to\", n, \"is:\", result)\\n```\\n\\nThis updated code uses the mathematical formula `(n*(n+1))/2` to directly calculate the sum of numbers from 1 to n, resulting in improved computational efficiency with a time complexity of O(1).'"
      ]
     },
     "execution_count": 18,
     "metadata": {},
     "output_type": "execute_result"
    }
   ],
   "source": [
    "runnable_self_refine.invoke('Generate a python code which calculates the sum of 1, 2, ..., n.')"
   ]
  },
  {
   "cell_type": "markdown",
   "metadata": {},
   "source": [
    "### `runnable_family.self_translate`\n",
    "\n",
    "This subpackage provides `RunnableSelfTranslate` based on https://arxiv.org/pdf/2308.01223.pdf .\n",
    "\n",
    "`RunnableSelfTranslate` enables you to the following steps:\n",
    "\n",
    "1. translate the input into another language;\n",
    "2. infer the output with the translated input;\n",
    "3. translate the output into the original language;"
   ]
  },
  {
   "cell_type": "markdown",
   "metadata": {},
   "source": [
    "Here is an example of `RunnableSelfTranslate` with a Japanese traditional math problem."
   ]
  },
  {
   "cell_type": "code",
   "execution_count": null,
   "metadata": {},
   "outputs": [],
   "source": [
    "runnable_self_translate = RunnableSelfTranslate(\n",
    "    translater=(\n",
    "        RunnableLambda(lambda x: f'Translate the following text to Japanese:\\n```\\n{x}\\n```')\n",
    "        | ChatOpenAI(model='gpt-3.5-turbo', temperature=0.8, model_kwargs={'seed': 1000})\n",
    "        | RunnableLambda(attrgetter('content'))\n",
    "        | RunnableLambda(lambda x: print('==========\\n'+x) or x)\n",
    "    ),\n",
    "    inverse_translater=(\n",
    "        RunnableLambda(lambda x: f'Translate the following text to English:\\n```\\n{x}\\n```')\n",
    "        | ChatOpenAI(model='gpt-3.5-turbo', temperature=0.8, model_kwargs={'seed': 1000})\n",
    "        | RunnableLambda(attrgetter('content'))\n",
    "        | RunnableLambda(lambda x: print('==========\\n'+x) or x)\n",
    "    ),\n",
    "    runnable=(\n",
    "        ChatOpenAI(model='gpt-3.5-turbo', temperature=0.8, model_kwargs={'seed': 1000})\n",
    "        | RunnableLambda(attrgetter('content'))\n",
    "        | RunnableLambda(lambda x: print('==========\\n'+x) or x)\n",
    "    ),\n",
    ")"
   ]
  },
  {
   "cell_type": "code",
   "execution_count": null,
   "metadata": {},
   "outputs": [
    {
     "name": "stdout",
     "output_type": "stream",
     "text": [
      "==========\n",
      "合計100本のツルとカメがいます。合計の足の数が274本の場合、ツルとカメは合計で何匹いますか？「ツルカメ算」を使ってステップバイステップで解いてください。\n",
      "==========\n",
      "「ツルカメ算」とは、ツルが2本、カメが4本の足を持つと仮定して、それぞれの動物の数を求める方法です。\n",
      "\n",
      "1. ツルの数をx、カメの数をyとすると、以下の2つの方程式が立てられます。\n",
      "x + y = 100 （合計の動物の数が100匹）\n",
      "2x + 4y = 274 （合計の足の数が274本）\n",
      "\n",
      "2. 上記の方程式を解くために、まず1番目の方程式を変形してxをyについて表します。\n",
      "x = 100 - y\n",
      "\n",
      "3. 次に、2番目の方程式にxの代入を行います。\n",
      "2(100 - y) + 4y = 274\n",
      "200 - 2y + 4y = 274\n",
      "2y = 74\n",
      "y = 37\n",
      "\n",
      "4. カメの数が37匹なので、ツルの数は以下のように計算できます。\n",
      "x = 100 - y\n",
      "x = 100 - 37\n",
      "x = 63\n",
      "\n",
      "したがって、ツルとカメの合計の数は63匹 + 37匹 = 100匹となります。\n",
      "==========\n",
      "The \"Crane-Turtle Problem\" is a method to determine the number of each animal assuming that a crane has 2 legs and a turtle has 4 legs.\n",
      "\n",
      "1. Let x be the number of cranes and y be the number of turtles. Two equations can be set up:\n",
      "x + y = 100 (total number of animals is 100)\n",
      "2x + 4y = 274 (total number of legs is 274)\n",
      "\n",
      "2. To solve the above equations, first rearrange the first equation to solve for x in terms of y.\n",
      "x = 100 - y\n",
      "\n",
      "3. Next, substitute x into the second equation.\n",
      "2(100 - y) + 4y = 274\n",
      "200 - 2y + 4y = 274\n",
      "2y = 74\n",
      "y = 37\n",
      "\n",
      "4. Since the number of turtles is 37, we can calculate the number of cranes as follows:\n",
      "x = 100 - y\n",
      "x = 100 - 37\n",
      "x = 63\n",
      "\n",
      "Therefore, the total number of cranes and turtles is 63 cranes + 37 turtles = 100 animals.\n"
     ]
    },
    {
     "data": {
      "text/plain": [
       "'The \"Crane-Turtle Problem\" is a method to determine the number of each animal assuming that a crane has 2 legs and a turtle has 4 legs.\\n\\n1. Let x be the number of cranes and y be the number of turtles. Two equations can be set up:\\nx + y = 100 (total number of animals is 100)\\n2x + 4y = 274 (total number of legs is 274)\\n\\n2. To solve the above equations, first rearrange the first equation to solve for x in terms of y.\\nx = 100 - y\\n\\n3. Next, substitute x into the second equation.\\n2(100 - y) + 4y = 274\\n200 - 2y + 4y = 274\\n2y = 74\\ny = 37\\n\\n4. Since the number of turtles is 37, we can calculate the number of cranes as follows:\\nx = 100 - y\\nx = 100 - 37\\nx = 63\\n\\nTherefore, the total number of cranes and turtles is 63 cranes + 37 turtles = 100 animals.'"
      ]
     },
     "execution_count": 20,
     "metadata": {},
     "output_type": "execute_result"
    }
   ],
   "source": [
    "runnable_self_translate.invoke(\n",
    "    'There are a total of 100 vines and turtles. '\n",
    "    'If the total number of legs is 274, how many cranes and turtles are there? '\n",
    "    'Use \"Tsuru-Kame zan\" step-by-step.'\n",
    ")"
   ]
  },
  {
   "cell_type": "code",
   "execution_count": null,
   "metadata": {},
   "outputs": [],
   "source": []
  }
 ],
 "metadata": {
  "kernelspec": {
   "display_name": "venv",
   "language": "python",
   "name": "python3"
  },
  "language_info": {
   "codemirror_mode": {
    "name": "ipython",
    "version": 3
   },
   "file_extension": ".py",
   "mimetype": "text/x-python",
   "name": "python",
   "nbconvert_exporter": "python",
   "pygments_lexer": "ipython3",
   "version": "3.10.11"
  }
 },
 "nbformat": 4,
 "nbformat_minor": 2
}
