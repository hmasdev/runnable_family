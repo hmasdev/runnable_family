{
 "cells": [
  {
   "cell_type": "markdown",
   "metadata": {},
   "source": [
    "# Basic Usage of runnable_family"
   ]
  },
  {
   "cell_type": "markdown",
   "metadata": {},
   "source": [
    "This notebook describes the basic usage of the `runnable_family` package.\n",
    "This package provides utilities implemented according to the `Runnable` protocol of `langchain`.\n",
    "This notebook will give you an idea of what `langchain` components you can build with the `runnable_family` package."
   ]
  },
  {
   "cell_type": "markdown",
   "metadata": {},
   "source": [
    "## Preparation"
   ]
  },
  {
   "cell_type": "markdown",
   "metadata": {},
   "source": [
    "First of all, you need to setup a virtual environment.\n",
    "\n",
    "`setup.sh` helps you setup.\n",
    "\n",
    "Altenatively,\n",
    "\n",
    "```bash\n",
    "python -m venv venv\n",
    "venv/bin/python -m pip install -e ..[openai]\n",
    "venv/bin/python -m pip install jupyter jupyterlab ipykernel\n",
    "echo \"OPENAI_API_KEY={HERE_IS_YOUR_API_KEY}\" > .env\n",
    "```"
   ]
  },
  {
   "cell_type": "markdown",
   "metadata": {},
   "source": [
    "## Libs"
   ]
  },
  {
   "cell_type": "code",
   "execution_count": 1,
   "metadata": {},
   "outputs": [],
   "source": [
    "from datetime import datetime as dt\n",
    "from functools import partial\n",
    "from collections import Counter\n",
    "from operator import attrgetter\n",
    "\n",
    "from dotenv import load_dotenv\n",
    "from langchain_core.runnables import RunnableLambda, RunnablePassthrough\n",
    "from langchain_openai import ChatOpenAI\n",
    "from langchain.output_parsers import PydanticOutputParser\n",
    "from langchain.pydantic_v1 import BaseModel\n",
    "from langchain.prompts import ChatPromptTemplate\n",
    "\n",
    "from runnable_family.basic import RunnableConstant, RunnableAdd, RunnableLog, RunnablePartialLambda\n",
    "from runnable_family.loopback import RunnableLoopback\n",
    "from runnable_family.gacha import RunnableGacha\n",
    "from runnable_family.runnable_diff import RunnableDiff\n",
    "from runnable_family.self_consistent import RunnableSelfConsistent\n",
    "from runnable_family.self_refine import RunnableSelfRefine\n",
    "from runnable_family.self_translate import RunnableSelfTranslate"
   ]
  },
  {
   "cell_type": "code",
   "execution_count": 2,
   "metadata": {},
   "outputs": [
    {
     "data": {
      "text/plain": [
       "True"
      ]
     },
     "execution_count": 2,
     "metadata": {},
     "output_type": "execute_result"
    }
   ],
   "source": [
    "load_dotenv()"
   ]
  },
  {
   "cell_type": "markdown",
   "metadata": {},
   "source": [
    "## Example"
   ]
  },
  {
   "cell_type": "markdown",
   "metadata": {},
   "source": [
    "### `runnable_family.basic`\n",
    "\n",
    "This subpackage provides basic utilities for the `Runnable` protocol which are expected to be used in anothre class in `runnable_family`."
   ]
  },
  {
   "cell_type": "markdown",
   "metadata": {},
   "source": [
    "The most fundamental class in this subpackage is `RunnableConstant`.\n",
    "\n",
    "This class is a `Runnable` class which outputs a constant value for any inputs."
   ]
  },
  {
   "cell_type": "code",
   "execution_count": 3,
   "metadata": {},
   "outputs": [
    {
     "name": "stdout",
     "output_type": "stream",
     "text": [
      "runnable_constant.invoke(None) =  1\n",
      "runnable_constant.invoke(2) =  1\n"
     ]
    }
   ],
   "source": [
    "runnable_constant = RunnableConstant(constant=1)\n",
    "print('runnable_constant.invoke(None) = ', runnable_constant.invoke(None))\n",
    "print('runnable_constant.invoke(2) = ', runnable_constant.invoke(2))"
   ]
  },
  {
   "cell_type": "markdown",
   "metadata": {},
   "source": [
    "Here is another fundamental class, `RunnableAdd`.\n",
    "\n",
    "This class is a `Runnable` class which add a constant value to the input value."
   ]
  },
  {
   "cell_type": "code",
   "execution_count": 4,
   "metadata": {},
   "outputs": [
    {
     "name": "stdout",
     "output_type": "stream",
     "text": [
      "runnable_add.invoke(10) =  11\n",
      "runnable_add.invoke(100) =  101\n"
     ]
    }
   ],
   "source": [
    "runnable_add = RunnableAdd(constant=1)\n",
    "print('runnable_add.invoke(10) = ', runnable_add.invoke(10))\n",
    "print('runnable_add.invoke(100) = ', runnable_add.invoke(100))"
   ]
  },
  {
   "cell_type": "markdown",
   "metadata": {},
   "source": [
    "Note that you can specify the order of addition with `left` argument.\n",
    "\n",
    "If `left` is True, which is the default value, an instance of `RunnableAdd` adds the constant value to the input value from the right side.\n",
    "\n",
    "In other words, the `left` argument can be interpreted as a parameter that controls whether the input value is counted from the left to a constant value."
   ]
  },
  {
   "cell_type": "code",
   "execution_count": 5,
   "metadata": {},
   "outputs": [
    {
     "name": "stdout",
     "output_type": "stream",
     "text": [
      "runnable_add_left.invoke(\"A\") =  Aa\n",
      "runnable_add_right.invoke(\"A\") =  aA\n"
     ]
    }
   ],
   "source": [
    "runnable_add_left = RunnableAdd(constant='a', left=True)\n",
    "runnable_add_right = RunnableAdd(constant='a', left=False)\n",
    "\n",
    "print(f'runnable_add_left.invoke(\"A\") = ', runnable_add_left.invoke('A'))\n",
    "print(f'runnable_add_right.invoke(\"A\") = ', runnable_add_right.invoke('A'))"
   ]
  },
  {
   "cell_type": "markdown",
   "metadata": {},
   "source": [
    "We sometimes want to use `print` or `logger` between `Runnable` classes for debugging.\n",
    "\n",
    "Of course, you can use `LANGCHAIN_TRAICING_V2` environment variable, which is described in https://python.langchain.com/v0.1/docs/expression_language/why/#logging .\n",
    "\n",
    "However, `RunnableLog` is an intiutive component for debugging."
   ]
  },
  {
   "cell_type": "code",
   "execution_count": 6,
   "metadata": {},
   "outputs": [
    {
     "name": "stdout",
     "output_type": "stream",
     "text": [
      "3\n",
      "6\n"
     ]
    },
    {
     "data": {
      "text/plain": [
       "6"
      ]
     },
     "execution_count": 6,
     "metadata": {},
     "output_type": "execute_result"
    }
   ],
   "source": [
    "log_runnable = RunnableLog(print)\n",
    "chain = (\n",
    "    RunnableAdd(1)\n",
    "    | RunnableAdd(2)\n",
    "    | log_runnable\n",
    "    | RunnableAdd(3)\n",
    "    | log_runnable\n",
    ")\n",
    "chain.invoke(0)"
   ]
  },
  {
   "cell_type": "markdown",
   "metadata": {},
   "source": [
    "`RunnablePartialLambda` is an extentended class of `RunnableLambda` which is a `Runnable` class that applies a function to the input value.\n",
    "\n",
    "For example, when you want to a function with its keyword arguments bound, you can use `RunnablePartialLambda` instead of `RunnableLambda`."
   ]
  },
  {
   "cell_type": "code",
   "execution_count": 7,
   "metadata": {},
   "outputs": [
    {
     "name": "stdout",
     "output_type": "stream",
     "text": [
      "ab\n",
      "cb\n"
     ]
    }
   ],
   "source": [
    "def join(x: str, y: str) -> str:\n",
    "    return x + y\n",
    "\n",
    "runnable_join = RunnablePartialLambda(join, y='b')\n",
    "print(runnable_join.invoke('a'))\n",
    "print(runnable_join.invoke('c'))"
   ]
  },
  {
   "cell_type": "markdown",
   "metadata": {},
   "source": [
    "Note that `RunnablePartialLambda(join, y='b')` is equivalent to the following code:"
   ]
  },
  {
   "cell_type": "code",
   "execution_count": 8,
   "metadata": {},
   "outputs": [
    {
     "name": "stdout",
     "output_type": "stream",
     "text": [
      "ab\n",
      "cb\n"
     ]
    }
   ],
   "source": [
    "runnable_join_ = RunnableLambda(partial(join, y='b'))\n",
    "print(runnable_join.invoke('a'))\n",
    "print(runnable_join.invoke('c'))"
   ]
  },
  {
   "cell_type": "markdown",
   "metadata": {},
   "source": [
    "### `runnable_family.loopback`\n",
    "\n",
    "This subpackage provides `RunnableLoopback`, which enables to loopback the output of a `Runnable` class to the input of the same class.\n",
    "\n",
    "Because such a runnable is not provided in `langchain`, `RunnableLoopback` is one of the central classes in `runnable_family`."
   ]
  },
  {
   "cell_type": "markdown",
   "metadata": {},
   "source": [
    "Here is an example of `RunnableLoopback`.\n",
    "\n",
    "This example provides a `Runnable` class which counts up the input value by 1."
   ]
  },
  {
   "cell_type": "code",
   "execution_count": 9,
   "metadata": {},
   "outputs": [],
   "source": [
    "runnable_loopback = RunnableLoopback(\n",
    "    runnable=(\n",
    "        RunnableAdd(constant=1)  # calulate x + 1 where x is the input\n",
    "        | RunnableLambda(lambda x: print(f'current output of the runnable: {x}') or x)  # print x and return x\n",
    "    ),\n",
    "    condition=RunnableLambda(lambda y: y < 10),  # only loopback if y < 10 where y is the output of the runnable\n",
    "    loopback=RunnablePassthrough(),  # runnable which transform the output of the runnable to the input of the runnable\n",
    ")"
   ]
  },
  {
   "cell_type": "code",
   "execution_count": 10,
   "metadata": {},
   "outputs": [
    {
     "name": "stdout",
     "output_type": "stream",
     "text": [
      "current output of the runnable: 1"
     ]
    },
    {
     "name": "stdout",
     "output_type": "stream",
     "text": [
      "\n",
      "current output of the runnable: 2\n",
      "current output of the runnable: 3\n",
      "current output of the runnable: 4\n",
      "current output of the runnable: 5\n",
      "current output of the runnable: 6\n",
      "current output of the runnable: 7\n",
      "current output of the runnable: 8\n",
      "current output of the runnable: 9\n",
      "current output of the runnable: 10\n"
     ]
    },
    {
     "data": {
      "text/plain": [
       "10"
      ]
     },
     "execution_count": 10,
     "metadata": {},
     "output_type": "execute_result"
    }
   ],
   "source": [
    "runnable_loopback.invoke(0)"
   ]
  },
  {
   "cell_type": "markdown",
   "metadata": {},
   "source": [
    "`get_graph` method helps you understand the structure of `RunnableLoopback`."
   ]
  },
  {
   "cell_type": "code",
   "execution_count": 11,
   "metadata": {},
   "outputs": [
    {
     "name": "stdout",
     "output_type": "stream",
     "text": [
      "                                   +---------------+                          \n",
      "                                   | LoopbackInput |                          \n",
      "                                   +---------------+                          \n",
      "                                            *                                 \n",
      "                                            *                                 \n",
      "                                            *                                 \n",
      "                                    +------------+                            \n",
      "                                    | _add_input |**                          \n",
      "                                    +------------+  ******                    \n",
      "                                 ***                      *****               \n",
      "                              ***                              *****          \n",
      "                            **                                      ******    \n",
      "                  +--------------+                                        *** \n",
      "                  | Lambda(_add) |                                          * \n",
      "                  +--------------+                                          * \n",
      "                          *                                                 * \n",
      "                          *                                                 * \n",
      "                          *                                                 * \n",
      "                  +-------------+                                           * \n",
      "                  | Lambda(...) |                                           * \n",
      "                  +-------------+                                           * \n",
      "                          *                                                 * \n",
      "                          *                                                 * \n",
      "                          *                                                 * \n",
      "                  +--------------+                                          * \n",
      "                  | LambdaOutput |                                          * \n",
      "                  +--------------+                                          * \n",
      "                          *                                                 * \n",
      "                          *                                                 * \n",
      "                          *                                                 * \n",
      "                  +-------------+                                           * \n",
      "                  | LambdaInput |                                           * \n",
      "                  +-------------+                                           * \n",
      "                          *                                                 * \n",
      "                          *                                                 * \n",
      "                          *                                                 * \n",
      "            +--------------------------+                                    * \n",
      "            | Lambda(lambda y: y < 10) |                                    * \n",
      "            +--------------------------+                                    * \n",
      "                          *                                                 * \n",
      "                          *                                                 * \n",
      "                          *                                                 * \n",
      "                  +--------------+                                          * \n",
      "                  | LambdaOutput |                                          * \n",
      "                  +--------------+                                          * \n",
      "                 **              **                                         * \n",
      "              ***                  ***                                      * \n",
      "            **                        **                                    * \n",
      "+----------------+              +------------------+                        * \n",
      "| LoopbackOutput |              | PassthroughInput |                        * \n",
      "+----------------+              +------------------+                        * \n",
      "                                          *                                 * \n",
      "                                          *                                 * \n",
      "                                          *                                 * \n",
      "                                  +-------------+                          ** \n",
      "                                  | Passthrough |                        **   \n",
      "                                  +-------------+*                    ***     \n",
      "                                                  ***              ***        \n",
      "                                                     ***         **           \n",
      "                                                        **     **             \n",
      "                                                  +-------------------+       \n",
      "                                                  | PassthroughOutput |       \n",
      "                                                  +-------------------+       \n"
     ]
    }
   ],
   "source": [
    "print(runnable_loopback.get_graph().draw_ascii())"
   ]
  },
  {
   "cell_type": "markdown",
   "metadata": {},
   "source": [
    "`RunnableLoopback` also provides a class method which create an instance of `RunnableLoopback` with a specified number of loopbacks.\n",
    "\n",
    "The following example let you know how to create a runnable which prints the current time 5 times."
   ]
  },
  {
   "cell_type": "code",
   "execution_count": 12,
   "metadata": {},
   "outputs": [],
   "source": [
    "runnable_loopback_with_n_times = RunnableLoopback.with_n_loop(\n",
    "    n=5,\n",
    "    runnable=(\n",
    "        RunnableLambda(lambda *args: dt.now())  # get the current time\n",
    "        | RunnableLambda(lambda x: print(f'current output of the runnable: {x}') or x)  # print x and return x\n",
    "    ),\n",
    "    loopback=RunnablePassthrough(),  # runnable which transform the output of the runnable to the input of the runnable\n",
    ")"
   ]
  },
  {
   "cell_type": "code",
   "execution_count": 13,
   "metadata": {},
   "outputs": [
    {
     "name": "stdout",
     "output_type": "stream",
     "text": [
      "current output of the runnable: 2024-06-01 22:09:16.579283\n",
      "current output of the runnable: 2024-06-01 22:09:16.763958\n",
      "current output of the runnable: 2024-06-01 22:09:16.928739\n",
      "current output of the runnable: 2024-06-01 22:09:17.115916\n",
      "current output of the runnable: 2024-06-01 22:09:17.282537\n"
     ]
    },
    {
     "data": {
      "text/plain": [
       "datetime.datetime(2024, 6, 1, 22, 9, 17, 282537)"
      ]
     },
     "execution_count": 13,
     "metadata": {},
     "output_type": "execute_result"
    }
   ],
   "source": [
    "runnable_loopback_with_n_times.invoke(1)"
   ]
  },
  {
   "cell_type": "markdown",
   "metadata": {},
   "source": [
    "### `runnable_family.gacha`\n",
    "\n",
    "This subpackage provides `RunnableGacha`.\n",
    "\n",
    "`RunnableGacha` helps you run a stochastic runnable like `ChatOpenAI` without `seed` many times."
   ]
  },
  {
   "cell_type": "markdown",
   "metadata": {},
   "source": [
    "The following example shows how to run `ChatOpenAI(model='gpt-4-turbo', temperature=1).invoke` 3 times."
   ]
  },
  {
   "cell_type": "code",
   "execution_count": 14,
   "metadata": {},
   "outputs": [],
   "source": [
    "runnable_gacha = RunnableGacha(\n",
    "    runnable=(\n",
    "        ChatOpenAI(model='gpt-4-turbo', temperature=1)\n",
    "        | RunnableLambda(attrgetter('content'))\n",
    "    ),\n",
    "    n=3,\n",
    ")"
   ]
  },
  {
   "cell_type": "code",
   "execution_count": 15,
   "metadata": {},
   "outputs": [
    {
     "data": {
      "text/plain": [
       "['The question \"What is the meaning of life?\" has been pondered across cultures and philosophies for centuries, often leading to a variety of interpretations depending on the context. Here are some perspectives:\\n\\n1. **Religious and Spiritual Views**: Many religions provide their own answers to this question. For instance, in Christianity, the meaning of life is to live according to God\\'s commandments and to achieve eternal life with Him. In Buddhism, it is to achieve enlightenment and escape the cycle of rebirth and suffering.\\n\\n2. **Philosophical Views**: Different philosophical schools offer diverse thoughts. Existentialists, like Jean-Paul Sartre, suggest that life has no inherent meaning, and it is up to each individual to give their own life meaning through their choices and actions. Meanwhile, utilitarianism proposes that the meaning of life is to achieve the greatest happiness for the greatest number of people.\\n\\n3. **Scientific Views**: From a biological perspective, the meaning of life could be seen as survival and reproduction, ensuring the continuation of one\\'s genes. However, many scientists acknowledge that understanding the complexity of human consciousness and social structures goes beyond mere biological functionality.\\n\\n4. **Personal and Cultural Views**: Many people find meaning through personal fulfillment, relationships, and making a positive impact in the world. Cultural narratives and individual experiences can heavily influence one’s sense of meaning.\\n\\nUltimately, the meaning of life can differ vastly from person to person. For some, it involves continuous search and personal growth, while for others, it is about finding satisfaction in the daily experiences and connections with others. The universal question may remain, but perhaps it is this search itself that provides depth and value to human life.',\n",
       " \"The question of the meaning of life is one that has been asked for centuries and is ultimately subjective, depending on cultural, philosophical, religious, and personal perspectives. \\n\\n1. **Philosophical perspectives**: Various philosophical schools of thought propose different answers to this question. Existentialists, for instance, suggest that life itself inherently has no meaning and it is up to each individual to give their life meaning through their choices and actions. Philosophers like Sartre and Camus explored these themes extensively.\\n\\n2. **Religious and spiritual views**: Many religions provide their own answers to this question. For example, in Christianity, the meaning of life might be to achieve salvation and an eternal relationship with God. Buddhism, on the other hand, might suggest the purpose of life is to find enlightenment and escape the cycle of rebirth and suffering.\\n\\n3. **Scientific and humanistic perspectives**: From a scientific standpoint, life can be seen as a byproduct of the laws of nature and the process of evolution. Humanists often argue that the meaning of life is to seek happiness and to help others achieve it as well, focusing on the values of reason, ethics, and justice.\\n\\nIn essence, the meaning of life is a personal exploration and can be derived from various aspects of human experience, including relationships, achievements, the pursuit of knowledge, and the quest for emotional or spiritual fulfillment. Each individual's worldview and life experiences will color their answer to this profound question.\",\n",
       " 'The question \"What is the meaning of life?\" has been a central and enduring inquiry in philosophy, religion, and human reflection throughout history. Its meaning varies not only across different cultures and belief systems but also individually based on personal experiences, values, and aspirations. Here are some perspectives:\\n\\n1. **Religious Viewpoints:**\\n   - **Christianity:** Life\\'s meaning is to serve God and prepare for eternal life with Him.\\n   - **Islam:** Life is a test; it is meant for worshiping God and living according to His commandments.\\n   - **Buddhism:** Focuses on ending suffering through ethical living, wisdom, and understanding the nature of reality.\\n   - **Hinduism:** Life\\'s purpose may include achieving Dharma (duty, righteousness), Artha (prosperity), Kama (desire), and Moksha (liberation from the cycle of rebirth).\\n\\n2. **Philosophical Perspectives:**\\n   - **Existentialism:** Suggests that life inherently has no meaning, and it is up to each individual to give their own life meaning through their choices and actions.\\n   - **Absurdism:** Proposes that humans seek inherent meaning in a universe that lacks it, leading to a conflict known as \"the Absurd.\" The meaning of life in this view is about how one responds to this absurdity.\\n   - **Nihilism:** Argues that life has no intrinsic meaning, purpose, or value.\\n   - **Utilitarianism:** Suggests that the meaning of life is to maximize happiness and reduce suffering for the greatest number of people.\\n\\n3. **Scientific and Secular Perspectives:**\\n   - Many believe that life’s purpose is what you make of it, grounded in personal satisfaction, societal contribution, and leaving a legacy.\\n   - From a biological standpoint, the purpose of life could be seen as simply to survive and reproduce, ensuring the continuation of one’s genes.\\n\\n4. **Personal and Artistic Interpretations:**\\n   - The meaning of life can also be seen in artistic expressions like literature, music, and art, which provide personal and communal significance.\\n   - Individuals may find meaning through relationships, achievements, the pursuit mgof knowledge, or the quest for spiritual or personal development.\\n\\nUltimately, the meaning of life varies from one individual to another and can evolve over time. It’s influenced by personal beliefs, societal roles, and experiences. Many find that engaging deeply with this question is itself a fulfilling aspect of life.']"
      ]
     },
     "execution_count": 15,
     "metadata": {},
     "output_type": "execute_result"
    }
   ],
   "source": [
    "runnable_gacha.invoke('What is the meaning of life?')"
   ]
  },
  {
   "cell_type": "markdown",
   "metadata": {},
   "source": [
    "### `runnable_family.runnable_diff`\n",
    "\n",
    "This subpackage provides `RunnableDiff`.\n",
    "\n",
    "`RunnableDiff` helps you compare the outputs of two runnables."
   ]
  },
  {
   "cell_type": "markdown",
   "metadata": {},
   "source": [
    "Here is an example that points out the shortcomings of the output of 'gpt-3.5-turbo' relative to the output of 'gpt-4-turbo'."
   ]
  },
  {
   "cell_type": "code",
   "execution_count": 16,
   "metadata": {},
   "outputs": [],
   "source": [
    "runnable_diff = RunnableDiff(\n",
    "    runnable1=(\n",
    "        ChatOpenAI(model='gpt-4-turbo', temperature=0.8, model_kwargs={'seed': 1000})\n",
    "        | RunnableLambda(attrgetter('content'))\n",
    "    ),\n",
    "    runnable2=(\n",
    "        ChatOpenAI(model='gpt-3.5-turbo', temperature=0.8, model_kwargs={'seed': 1000})\n",
    "        | RunnableLambda(attrgetter('content'))\n",
    "    ),\n",
    "    diff=(\n",
    "        RunnableLambda(lambda itr: '\\n'.join([\n",
    "            f'1. ```\\n{itr[0]}\\n```',\n",
    "            f'2. ```\\n{itr[1]}\\n```',\n",
    "            '\\n',\n",
    "            'The former is thought to be better than the latter.',\n",
    "            'What do you think is insufficient in the latter?',\n",
    "        ]))\n",
    "        | RunnableLambda(lambda x: print(x) or x)\n",
    "        | ChatOpenAI(model='gpt-4-turbo', temperature=0.8, model_kwargs={'seed': 1234})\n",
    "    )\n",
    ")"
   ]
  },
  {
   "cell_type": "code",
   "execution_count": 17,
   "metadata": {},
   "outputs": [
    {
     "name": "stdout",
     "output_type": "stream",
     "text": [
      "1. ```\n",
      "The question of the meaning of life has been a central topic in philosophy, religion, and literature throughout human history. Different cultures and philosophical systems offer a variety of answers, but here are some common perspectives:\n",
      "\n",
      "1. **Religious and Spiritual Views**: Many religions provide specific answers to this question. For example, in many strands of Christianity, the meaning of life is to fulfill God's will and to achieve eternal life with Him. In Buddhism, it's often seen as achieving enlightenment and escaping the cycle of rebirth and suffering.\n",
      "\n",
      "2. **Philosophical Views**:\n",
      "   - **Existentialism**: Existentialists, like Jean-Paul Sartre and Albert Camus, suggest that life inherently has no meaning, and it's up to each individual to create their own meaning through their choices and actions.\n",
      "   - **Absurdism**: Developed by philosophers like Albert Camus, absurdism holds that life is inherently meaningless, but humans should continue to find personal meaning and live with perseverance despite this.\n",
      "   - **Utilitarianism**: Philosophers like Jeremy Bentham and John Stuart Mill propose that the meaning of life could be to maximize happiness and reduce suffering for the greatest number of people.\n",
      "\n",
      "3. **Humanistic Views**: Humanism suggests that the meaning of life is to seek fulfillment and strive for personal development and growth. This often involves contributing to society in a way that enriches one's life and the lives of others.\n",
      "\n",
      "4. **Scientific and Naturalistic Views**: From a scientific standpoint, life has no inherent purpose other than survival and reproduction. Some argue that understanding and exploring the universe can be a meaningful pursuit.\n",
      "\n",
      "5. **Personal Growth and Pursuit of Happiness**: Many people find meaning through personal achievement, relationships, and the pursuit of happiness and contentment. This is often about living life to its fullest in a way that is satisfying and meaningful to the individual.\n",
      "\n",
      "Ultimately, the meaning of life varies from person to person. It can be a mix of personal, cultural, and societal influences and is often a subject of deep individual reflection or discussion. It's a profoundly personal question that each individual might answer differently based on their experiences, beliefs, and aspirations.\n",
      "```\n",
      "2. ```\n",
      "The meaning of life is a deeply philosophical question that has been debated for centuries. Different cultures, religions, and individuals have different beliefs about the purpose and significance of life. Some believe that the meaning of life is to seek happiness, fulfillment, or spiritual enlightenment, while others believe that it is to fulfill certain duties or obligations. Ultimately, the meaning of life is a deeply personal and subjective question that each individual must grapple with and find their own answer to.\n",
      "```\n",
      "\n",
      "\n",
      "The former is thought to be better than the latter.\n",
      "What do you think is insufficient in the latter?\n",
      "The latter text, while succinct, lacks several key elements that make the former more comprehensive and engaging:\n",
      "\n",
      "1. **Detail and Specificity**: The first text dives into specific philosophical and religious systems, providing concrete examples such as existentialism, absurdism, Christianity, and Buddhism. This specificity helps readers understand the diverse range of perspectives and grounds the abstract concept of the meaning of life in tangible beliefs and philosophies.\n",
      "\n",
      "2. **Variety of Perspectives**: The first text offers a broader spectrum of viewpoints, including religious, philosophical, humanistic, scientific, and personal growth perspectives. In contrast, the latter text offers a more generalized and less detailed view, which might not capture the full complexity of the question or provide readers with a rich understanding of the different answers that exist.\n",
      "\n",
      "3. **Engagement and Depth**: By discussing specific philosophers like Jean-Paul Sartre, Albert Camus, Jeremy Bentham, and John Stuart Mill, the first text invites readers into a deeper conversation about the meaning of life. It provides a more engaging narrative that can stimulate further exploration and thought, whereas the latter text might come across as somewhat vague and abstract.\n",
      "\n",
      "4. **Contextual and Cultural Richness**: The first text acknowledges the influence of cultural and societal factors on one’s understanding of the meaning of life. It respects the diversity and complexity of human experience in shaping philosophical inquiry, which is somewhat glossed over in the latter text.\n",
      "\n",
      "5. **Actionable Insights**: The first text not only discusses theoretical perspectives but also connects these to actionable life approaches, such as pursuing personal growth, happiness, and contributing to society. This practical connection is less pronounced in the second text.\n",
      "\n",
      "6. **Invitation to Reflect**: By enumerating various perspectives, the first text implicitly invites readers to reflect on and evaluate each viewpoint, possibly encouraging a personal exploration of what the meaning of life might be for them. The latter text, while mentioning that it is a personal and subjective question, doesn't provide the same level of detail or framework for such reflection.\n",
      "\n",
      "In summary, the latter text, while it accurately captures the subjective and personal nature of the meaning of life, lacks the depth, variety, and specificity that can make discussions of such a profound topic both enlightening and stimulating.\n"
     ]
    }
   ],
   "source": [
    "print(runnable_diff.invoke('What is the meaning of life?').content)"
   ]
  },
  {
   "cell_type": "markdown",
   "metadata": {},
   "source": [
    "### `runnable_family.self_consistent`\n",
    "\n",
    "This subpackage provides `RunnableSelfConsistent`.\n",
    "\n",
    "`RunnableSelfConsistent` is a `Runnable` class which implements \"self-consisntent\" approach.\n",
    "\n",
    "\"self-consisntent\" approach, suggested in https://arxiv.org/pdf/2203.11171.pdf, selects the most consistent answer by marginalizing out a diverse set of reasoning paths."
   ]
  },
  {
   "cell_type": "markdown",
   "metadata": {},
   "source": [
    "The following example is equievalent to the example in Figure 1 in https://arxiv.org/pdf/2203.11171.pdf ."
   ]
  },
  {
   "cell_type": "code",
   "execution_count": 18,
   "metadata": {},
   "outputs": [],
   "source": [
    "class IntegerAnswer(BaseModel):\n",
    "    answer: int\n",
    "\n",
    "\n",
    "output_parser = PydanticOutputParser(pydantic_object=IntegerAnswer)\n",
    "prompt = ChatPromptTemplate.from_messages([\n",
    "    (\"system\", '{format_instruction}'),\n",
    "    (\"human\", \"{input}\"),\n",
    "])\n",
    "\n",
    "runnable_self_consistent = (\n",
    "    RunnablePassthrough().assign(format_instruction=RunnableConstant(output_parser.get_format_instructions()))\n",
    "    | prompt\n",
    "    | RunnableSelfConsistent(\n",
    "        runnables=[\n",
    "            ChatOpenAI(model='gpt-4-turbo', temperature=0.8, model_kwargs={'seed': 1000}) | output_parser | RunnableLambda(attrgetter('answer')),\n",
    "            ChatOpenAI(model='gpt-4-turbo', temperature=0.8, model_kwargs={'seed': 1235}) | output_parser | RunnableLambda(attrgetter('answer')),\n",
    "            ChatOpenAI(model='gpt-3.5-turbo', temperature=0.8, model_kwargs={'seed': 2500}) | output_parser | RunnableLambda(attrgetter('answer')),\n",
    "        ],\n",
    "        aggregate=(\n",
    "            RunnableLambda(lambda itr: print(itr) or itr)  # print the outputs of the runnables\n",
    "            | RunnableLambda(lambda itr: Counter(itr).most_common(1)[0][0])  # count the most common answer\n",
    "        ),\n",
    "    )\n",
    ")"
   ]
  },
  {
   "cell_type": "code",
   "execution_count": 19,
   "metadata": {},
   "outputs": [
    {
     "name": "stdout",
     "output_type": "stream",
     "text": [
      "[18, 5, 10]\n"
     ]
    },
    {
     "data": {
      "text/plain": [
       "18"
      ]
     },
     "execution_count": 19,
     "metadata": {},
     "output_type": "execute_result"
    }
   ],
   "source": [
    "runnable_self_consistent.invoke(dict(input='\\n'.join([\n",
    "    'Q: If there are 3 cars in the parking lot and 2 more cars arrive, how many cars are in the parking lot?',\n",
    "    'A: There are 3 cars in the parking lot already. 2 more arrive. Now there are 3 + 2 = 5 cars. The answer is 5.',\n",
    "    '\\n',\n",
    "    'Q: Janet\\'s ducks lay 16 eggs per day. '\n",
    "    'She eats three for breakfast every morning and bakes muffins for her friends every day with four. '\n",
    "    'She sells the remainder for $2 per egg. How much does she make every day?',\n",
    "    'A: ',\n",
    "])))"
   ]
  },
  {
   "cell_type": "markdown",
   "metadata": {},
   "source": [
    "### `runnable_family.self_refine`\n",
    "\n",
    "This subpackage provides `RunnableSelfRefine`.\n",
    "\n",
    "`RunnableSelfRefine` is a `Runnable` which implements 'self-refine' approach, suggested in https://arxiv.org/pdf/2303.17651.pdf .\n",
    "\n",
    "`RunnableSelfRefine` helps you refine the output automatically."
   ]
  },
  {
   "cell_type": "markdown",
   "metadata": {},
   "source": [
    "The following example is similar to the example in Figure 1 (d)(e)(f) in https://arxiv.org/pdf/2303.17651.pdf .\n",
    "\n",
    "In this example, after generating a python code to calculate the sum of 1 to $n$, it is automatically refined in a point of view of the efficiency."
   ]
  },
  {
   "cell_type": "code",
   "execution_count": 20,
   "metadata": {},
   "outputs": [],
   "source": [
    "runnable_self_refine = RunnableSelfRefine(\n",
    "    runnable=(\n",
    "        ChatOpenAI(model='gpt-3.5-turbo', temperature=0.8, model_kwargs={'seed': 1000})\n",
    "        | RunnableLambda(lambda x: print('==========\\n'+x.content) or x)  # print the output\n",
    "    ),\n",
    "    feedback=(\n",
    "        ChatPromptTemplate.from_messages([(\n",
    "            'human',\n",
    "            '\\n'.join([\n",
    "                'The user requires a code that satisfies the following',\n",
    "                '```',\n",
    "                '{input}',\n",
    "                '```',\n",
    "                'The service is attempting to return the following code in response to the above request:',\n",
    "                '```',\n",
    "                '{output}',\n",
    "                '```',\n",
    "                '\\n',\n",
    "                'Please point out the issues with this code in terms of computational efficiency.',\n",
    "            ])\n",
    "        )])\n",
    "        | ChatOpenAI(model='gpt-3.5-turbo', temperature=0.8, model_kwargs={'seed': 1234})\n",
    "        | RunnableLambda(lambda x: print('==========\\n'+x.content) or x)  # print the feedback\n",
    "    ),\n",
    "    refine=(\n",
    "        ChatPromptTemplate.from_messages([(\n",
    "            'human',\n",
    "            '\\n'.join([\n",
    "                'The user requires a code that satisfies the following',\n",
    "                '```',\n",
    "                '{input}',\n",
    "                '```',\n",
    "                'The service is attempting to return the following code in response to the above request:',\n",
    "                '```',\n",
    "                '{output}',\n",
    "                '```',\n",
    "                'For the above output code, the user give the following feedback:',\n",
    "                '```',\n",
    "                '{feedback}',\n",
    "                '```',\n",
    "                '\\n',\n",
    "                'Please refine the code to address the user\\'s feedback.',\n",
    "            ])\n",
    "        )])\n",
    "        | ChatOpenAI(model='gpt-3.5-turbo', temperature=0.8, model_kwargs={'seed': 1234})\n",
    "        | RunnableLambda(lambda x: print('==========\\n'+x.content) or x)  # print the refined code\n",
    "    ),\n",
    "    input_key='input',  # key to access the input. In this case, the default value will be used.\n",
    "    output_key='output',  # key to access the output. In this case, the default value will be used.\n",
    "    feedback_key='feedback',  # key to access the feedback. In this case, the default value will be used.\n",
    ") | RunnableLambda(attrgetter('content'))"
   ]
  },
  {
   "cell_type": "code",
   "execution_count": 21,
   "metadata": {},
   "outputs": [
    {
     "name": "stdout",
     "output_type": "stream",
     "text": [
      "==========\n",
      "```python\n",
      "def calculate_sum(n):\n",
      "    total = 0\n",
      "    for i in range(1, n+1):\n",
      "        total += i\n",
      "    return total\n",
      "\n",
      "n = int(input(\"Enter a number: \"))\n",
      "result = calculate_sum(n)\n",
      "print(\"The sum of 1 to\", n, \"is:\", result)\n",
      "```\n",
      "\n",
      "This code defines a function `calculate_sum` that takes an integer `n` as input and calculates the sum of numbers from 1 to `n`. It then takes user input for `n`, calculates the sum using the function, and prints the result.\n",
      "==========\n",
      "One potential issue with the code provided is that it uses a simple loop to calculate the sum of numbers from 1 to `n`. This approach has a time complexity of O(n), meaning that the time taken to calculate the sum increases linearly with the value of `n`. \n",
      "\n",
      "A more efficient approach to calculate the sum of numbers from 1 to `n` is to use the formula for the sum of an arithmetic series, which is `n*(n+1)//2`. This formula allows for calculating the sum in constant time, regardless of the value of `n`.\n",
      "\n",
      "Therefore, if computational efficiency is a concern, it would be better to use the formula `n*(n+1)//2` to calculate the sum of numbers from 1 to `n` instead of using a loop.\n",
      "==========\n",
      "content='```python\\ndef calculate_sum(n):\\n    return n*(n+1)//2\\n\\nn = int(input(\"Enter a number: \"))\\nresult = calculate_sum(n)\\nprint(\"The sum of 1 to\", n, \"is:\", result)\\n```\\n\\nThis updated code defines a function `calculate_sum` that takes an integer `n` as input and calculates the sum of numbers from 1 to `n` using the formula `n*(n+1)//2`, which has a constant time complexity. It then takes user input for `n`, calculates the sum using the function, and prints the result.'\n"
     ]
    },
    {
     "data": {
      "text/plain": [
       "'content=\\'```python\\\\ndef calculate_sum(n):\\\\n    return n*(n+1)//2\\\\n\\\\nn = int(input(\"Enter a number: \"))\\\\nresult = calculate_sum(n)\\\\nprint(\"The sum of 1 to\", n, \"is:\", result)\\\\n```\\\\n\\\\nThis updated code defines a function `calculate_sum` that takes an integer `n` as input and calculates the sum of numbers from 1 to `n` using the formula `n*(n+1)//2`, which has a constant time complexity. It then takes user input for `n`, calculates the sum using the function, and prints the result.\\''"
      ]
     },
     "execution_count": 21,
     "metadata": {},
     "output_type": "execute_result"
    }
   ],
   "source": [
    "runnable_self_refine.invoke('Generate a python code which calculates the sum of 1, 2, ..., n.')"
   ]
  },
  {
   "cell_type": "markdown",
   "metadata": {},
   "source": [
    "### `runnable_family.self_translate`\n",
    "\n",
    "This subpackage provides `RunnableSelfTranslate` based on https://arxiv.org/pdf/2308.01223.pdf .\n",
    "\n",
    "`RunnableSelfTranslate` enables you to the following steps:\n",
    "\n",
    "1. translate the input into another language;\n",
    "2. infer the output with the translated input;\n",
    "3. translate the output into the original language;"
   ]
  },
  {
   "cell_type": "markdown",
   "metadata": {},
   "source": [
    "Here is an example of `RunnableSelfTranslate` with a Japanese traditional math problem."
   ]
  },
  {
   "cell_type": "code",
   "execution_count": 22,
   "metadata": {},
   "outputs": [],
   "source": [
    "runnable_self_translate = RunnableSelfTranslate(\n",
    "    translater=(\n",
    "        RunnableLambda(lambda x: f'Translate the following text to Japanese:\\n```\\n{x}\\n```')\n",
    "        | ChatOpenAI(model='gpt-3.5-turbo', temperature=0.8, model_kwargs={'seed': 1000})\n",
    "        | RunnableLambda(attrgetter('content'))\n",
    "        | RunnableLambda(lambda x: print('==========\\n'+x) or x)\n",
    "    ),\n",
    "    inverse_translater=(\n",
    "        RunnableLambda(lambda x: f'Translate the following text to English:\\n```\\n{x}\\n```')\n",
    "        | ChatOpenAI(model='gpt-3.5-turbo', temperature=0.8, model_kwargs={'seed': 1000})\n",
    "        | RunnableLambda(attrgetter('content'))\n",
    "        | RunnableLambda(lambda x: print('==========\\n'+x) or x)\n",
    "    ),\n",
    "    runnable=(\n",
    "        ChatOpenAI(model='gpt-3.5-turbo', temperature=0.8, model_kwargs={'seed': 1000})\n",
    "        | RunnableLambda(attrgetter('content'))\n",
    "        | RunnableLambda(lambda x: print('==========\\n'+x) or x)\n",
    "    ),\n",
    ")"
   ]
  },
  {
   "cell_type": "code",
   "execution_count": 23,
   "metadata": {},
   "outputs": [
    {
     "name": "stdout",
     "output_type": "stream",
     "text": [
      "==========\n",
      "合計100本のツルとカメがいます。合計の足の数が274本の場合、ツルとカメは合計で何匹いますか？「ツルカメ算」を使ってステップバイステップで解いてください。\n",
      "==========\n",
      "「ツルカメ算」とは、ツルが2本、カメが4本の足を持つと仮定して、それぞれの動物の数を変数で表し、連立方程式を立てて解く方法です。\n",
      "\n",
      "ツルの数を x とし、カメの数を y とします。\n",
      "\n",
      "まず、ツルとカメの数の合計は100なので、\n",
      "x + y = 100\n",
      "\n",
      "次に、足の数の合計が274本なので、\n",
      "2x + 4y = 274\n",
      "\n",
      "以上の2つの式から、連立方程式を解いていきます。\n",
      "\n",
      "まず、1番目の式を変形してxを求めます。\n",
      "x = 100 - y\n",
      "\n",
      "2番目の式に代入してyを求めます。\n",
      "2(100 - y) + 4y = 274\n",
      "200 - 2y + 4y = 274\n",
      "2y = 74\n",
      "y = 37\n",
      "\n",
      "得られたyを1番目の式に代入してxを求めます。\n",
      "x = 100 - 37\n",
      "x = 63\n",
      "\n",
      "したがって、ツルは63匹、カメは37匹います。\n",
      "\n",
      "ツルとカメの合計数は、\n",
      "63 + 37 = 100\n",
      "\n",
      "よって、合計で100匹のツルとカメがいます。\n",
      "==========\n",
      "The \"Crane and Turtle Problem\" is a method of solving simultaneous equations by assuming that a crane has 2 legs and a turtle has 4 legs, representing the number of each animal with variables.\n",
      "\n",
      "Let x represent the number of cranes and y represent the number of turtles.\n",
      "\n",
      "First, since the total number of cranes and turtles is 100,\n",
      "x + y = 100\n",
      "\n",
      "Next, since the total number of legs is 274,\n",
      "2x + 4y = 274\n",
      "\n",
      "From these two equations, we solve the simultaneous equations.\n",
      "\n",
      "First, rearrange the first equation to solve for x.\n",
      "x = 100 - y\n",
      "\n",
      "Substitute the second equation to solve for y.\n",
      "2(100 - y) + 4y = 274\n",
      "200 - 2y + 4y = 274\n",
      "2y = 74\n",
      "y = 37\n",
      "\n",
      "Substitute the obtained y back into the first equation to solve for x.\n",
      "x = 100 - 37\n",
      "x = 63\n",
      "\n",
      "Therefore, there are 63 cranes and 37 turtles.\n",
      "\n",
      "The total number of cranes and turtles is\n",
      "63 + 37 = 100\n",
      "\n",
      "Therefore, there are a total of 100 cranes and turtles.\n"
     ]
    },
    {
     "data": {
      "text/plain": [
       "'The \"Crane and Turtle Problem\" is a method of solving simultaneous equations by assuming that a crane has 2 legs and a turtle has 4 legs, representing the number of each animal with variables.\\n\\nLet x represent the number of cranes and y represent the number of turtles.\\n\\nFirst, since the total number of cranes and turtles is 100,\\nx + y = 100\\n\\nNext, since the total number of legs is 274,\\n2x + 4y = 274\\n\\nFrom these two equations, we solve the simultaneous equations.\\n\\nFirst, rearrange the first equation to solve for x.\\nx = 100 - y\\n\\nSubstitute the second equation to solve for y.\\n2(100 - y) + 4y = 274\\n200 - 2y + 4y = 274\\n2y = 74\\ny = 37\\n\\nSubstitute the obtained y back into the first equation to solve for x.\\nx = 100 - 37\\nx = 63\\n\\nTherefore, there are 63 cranes and 37 turtles.\\n\\nThe total number of cranes and turtles is\\n63 + 37 = 100\\n\\nTherefore, there are a total of 100 cranes and turtles.'"
      ]
     },
     "execution_count": 23,
     "metadata": {},
     "output_type": "execute_result"
    }
   ],
   "source": [
    "runnable_self_translate.invoke(\n",
    "    'There are a total of 100 vines and turtles. '\n",
    "    'If the total number of legs is 274, how many cranes and turtles are there? '\n",
    "    'Use \"Tsuru-Kame zan\" step-by-step.'\n",
    ")"
   ]
  },
  {
   "cell_type": "code",
   "execution_count": null,
   "metadata": {},
   "outputs": [],
   "source": []
  }
 ],
 "metadata": {
  "kernelspec": {
   "display_name": "venv",
   "language": "python",
   "name": "python3"
  },
  "language_info": {
   "codemirror_mode": {
    "name": "ipython",
    "version": 3
   },
   "file_extension": ".py",
   "mimetype": "text/x-python",
   "name": "python",
   "nbconvert_exporter": "python",
   "pygments_lexer": "ipython3",
   "version": "3.10.11"
  }
 },
 "nbformat": 4,
 "nbformat_minor": 2
}
