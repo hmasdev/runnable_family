{
 "cells": [
  {
   "cell_type": "markdown",
   "metadata": {},
   "source": [
    "# Basic Usage of runnable_family"
   ]
  },
  {
   "cell_type": "markdown",
   "metadata": {},
   "source": [
    "This notebook describes the basic usage of the `runnable_family` package.\n",
    "This package provides utilities implemented according to the `Runnable` protocol of `langchain`.\n",
    "This notebook will give you an idea of what `langchain` components you can build with the `runnable_family` package."
   ]
  },
  {
   "cell_type": "markdown",
   "metadata": {},
   "source": [
    "## Preparation"
   ]
  },
  {
   "cell_type": "markdown",
   "metadata": {},
   "source": [
    "First of all, you need to setup a virtual environment.\n",
    "\n",
    "`setup.sh` helps you setup.\n",
    "\n",
    "Altenatively,\n",
    "\n",
    "```bash\n",
    "python -m venv venv\n",
    "venv/bin/python -m pip install -e ..[openai]\n",
    "venv/bin/python -m pip install jupyter jupyterlab ipykernel\n",
    "echo \"OPENAI_API_KEY={HERE_IS_YOUR_API_KEY}\" > .env\n",
    "```"
   ]
  },
  {
   "cell_type": "markdown",
   "metadata": {},
   "source": [
    "## Libs"
   ]
  },
  {
   "cell_type": "code",
   "execution_count": 1,
   "metadata": {},
   "outputs": [],
   "source": [
    "from datetime import datetime as dt\n",
    "from collections import Counter\n",
    "from operator import attrgetter\n",
    "\n",
    "from dotenv import load_dotenv\n",
    "from langchain_core.runnables import RunnableLambda, RunnablePassthrough\n",
    "from langchain_openai import ChatOpenAI\n",
    "from langchain.output_parsers import PydanticOutputParser\n",
    "from langchain.pydantic_v1 import BaseModel\n",
    "from langchain.prompts import ChatPromptTemplate\n",
    "\n",
    "from runnable_family.basic import RunnableConstant, RunnableAdd, RunnableLog\n",
    "from runnable_family.loopback import RunnableLoopback\n",
    "from runnable_family.gacha import RunnableGacha\n",
    "from runnable_family.runnable_diff import RunnableDiff\n",
    "from runnable_family.self_consistent import RunnableSelfConsistent\n",
    "from runnable_family.self_refine import RunnableSelfRefine\n",
    "from runnable_family.self_translate import RunnableSelfTranslate"
   ]
  },
  {
   "cell_type": "code",
   "execution_count": 2,
   "metadata": {},
   "outputs": [
    {
     "data": {
      "text/plain": [
       "True"
      ]
     },
     "execution_count": 2,
     "metadata": {},
     "output_type": "execute_result"
    }
   ],
   "source": [
    "load_dotenv()"
   ]
  },
  {
   "cell_type": "markdown",
   "metadata": {},
   "source": [
    "## Example"
   ]
  },
  {
   "cell_type": "markdown",
   "metadata": {},
   "source": [
    "### `runnable_family.basic`\n",
    "\n",
    "This subpackage provides basic utilities for the `Runnable` protocol which are expected to be used in anothre class in `runnable_family`."
   ]
  },
  {
   "cell_type": "markdown",
   "metadata": {},
   "source": [
    "The most fundamental class in this subpackage is `RunnableConstant`.\n",
    "\n",
    "This class is a `Runnable` class which outputs a constant value for any inputs."
   ]
  },
  {
   "cell_type": "code",
   "execution_count": 3,
   "metadata": {},
   "outputs": [
    {
     "name": "stdout",
     "output_type": "stream",
     "text": [
      "runnable_constant.invoke(None) =  1\n",
      "runnable_constant.invoke(2) =  1\n"
     ]
    }
   ],
   "source": [
    "runnable_constant = RunnableConstant(constant=1)\n",
    "print('runnable_constant.invoke(None) = ', runnable_constant.invoke(None))\n",
    "print('runnable_constant.invoke(2) = ', runnable_constant.invoke(2))"
   ]
  },
  {
   "cell_type": "markdown",
   "metadata": {},
   "source": [
    "Here is another fundamental class, `RunnableAdd`.\n",
    "\n",
    "This class is a `Runnable` class which add a constant value to the input value."
   ]
  },
  {
   "cell_type": "code",
   "execution_count": 4,
   "metadata": {},
   "outputs": [
    {
     "name": "stdout",
     "output_type": "stream",
     "text": [
      "runnable_add.invoke(10) =  11\n",
      "runnable_add.invoke(100) =  101\n"
     ]
    }
   ],
   "source": [
    "runnable_add = RunnableAdd(constant=1)\n",
    "print('runnable_add.invoke(10) = ', runnable_add.invoke(10))\n",
    "print('runnable_add.invoke(100) = ', runnable_add.invoke(100))"
   ]
  },
  {
   "cell_type": "markdown",
   "metadata": {},
   "source": [
    "Note that you can specify the order of addition with `left` argument.\n",
    "\n",
    "If `left` is True, which is the default value, an instance of `RunnableAdd` adds the constant value to the input value from the right side.\n",
    "\n",
    "In other words, the `left` argument can be interpreted as a parameter that controls whether the input value is counted from the left to a constant value."
   ]
  },
  {
   "cell_type": "code",
   "execution_count": 5,
   "metadata": {},
   "outputs": [
    {
     "name": "stdout",
     "output_type": "stream",
     "text": [
      "runnable_add_left.invoke(\"A\") =  Aa\n",
      "runnable_add_right.invoke(\"A\") =  aA\n"
     ]
    }
   ],
   "source": [
    "runnable_add_left = RunnableAdd(constant='a', left=True)\n",
    "runnable_add_right = RunnableAdd(constant='a', left=False)\n",
    "\n",
    "print(f'runnable_add_left.invoke(\"A\") = ', runnable_add_left.invoke('A'))\n",
    "print(f'runnable_add_right.invoke(\"A\") = ', runnable_add_right.invoke('A'))"
   ]
  },
  {
   "cell_type": "markdown",
   "metadata": {},
   "source": [
    "We sometimes want to use `print` or `logger` between `Runnable` classes for debugging.\n",
    "\n",
    "Of course, you can use `LANGCHAIN_TRAICING_V2` environment variable, which is described in https://python.langchain.com/v0.1/docs/expression_language/why/#logging .\n",
    "\n",
    "However, `RunnableLog` is an intiutive component for debugging."
   ]
  },
  {
   "cell_type": "code",
   "execution_count": 6,
   "metadata": {},
   "outputs": [
    {
     "name": "stdout",
     "output_type": "stream",
     "text": [
      "3\n",
      "6\n"
     ]
    },
    {
     "data": {
      "text/plain": [
       "6"
      ]
     },
     "execution_count": 6,
     "metadata": {},
     "output_type": "execute_result"
    }
   ],
   "source": [
    "log_runnable = RunnableLog(print)\n",
    "chain = (\n",
    "    RunnableAdd(1)\n",
    "    | RunnableAdd(2)\n",
    "    | log_runnable\n",
    "    | RunnableAdd(3)\n",
    "    | log_runnable\n",
    ")\n",
    "chain.invoke(0)"
   ]
  },
  {
   "cell_type": "markdown",
   "metadata": {},
   "source": [
    "### `runnable_family.loopback`\n",
    "\n",
    "This subpackage provides `RunnableLoopback`, which enables to loopback the output of a `Runnable` class to the input of the same class.\n",
    "\n",
    "Because such a runnable is not provided in `langchain`, `RunnableLoopback` is one of the central classes in `runnable_family`."
   ]
  },
  {
   "cell_type": "markdown",
   "metadata": {},
   "source": [
    "Here is an example of `RunnableLoopback`.\n",
    "\n",
    "This example provides a `Runnable` class which counts up the input value by 1."
   ]
  },
  {
   "cell_type": "code",
   "execution_count": 7,
   "metadata": {},
   "outputs": [],
   "source": [
    "runnable_loopback = RunnableLoopback(\n",
    "    runnable=(\n",
    "        RunnableAdd(constant=1)  # calulate x + 1 where x is the input\n",
    "        | RunnableLambda(lambda x: print(f'current output of the runnable: {x}') or x)  # print x and return x\n",
    "    ),\n",
    "    condition=RunnableLambda(lambda y: y < 10),  # only loopback if y < 10 where y is the output of the runnable\n",
    "    loopback=RunnablePassthrough(),  # runnable which transform the output of the runnable to the input of the runnable\n",
    ")"
   ]
  },
  {
   "cell_type": "code",
   "execution_count": 8,
   "metadata": {},
   "outputs": [
    {
     "name": "stdout",
     "output_type": "stream",
     "text": [
      "current output of the runnable: 1\n",
      "current output of the runnable: 2\n",
      "current output of the runnable: 3\n",
      "current output of the runnable: 4\n",
      "current output of the runnable: 5\n",
      "current output of the runnable: 6\n",
      "current output of the runnable: 7\n",
      "current output of the runnable: 8\n",
      "current output of the runnable: 9\n",
      "current output of the runnable: 10\n"
     ]
    },
    {
     "data": {
      "text/plain": [
       "10"
      ]
     },
     "execution_count": 8,
     "metadata": {},
     "output_type": "execute_result"
    }
   ],
   "source": [
    "runnable_loopback.invoke(0)"
   ]
  },
  {
   "cell_type": "markdown",
   "metadata": {},
   "source": [
    "`get_graph` method helps you understand the structure of `RunnableLoopback`."
   ]
  },
  {
   "cell_type": "code",
   "execution_count": 9,
   "metadata": {},
   "outputs": [
    {
     "name": "stdout",
     "output_type": "stream",
     "text": [
      "                                   +---------------+                          \n",
      "                                   | LoopbackInput |                          \n",
      "                                   +---------------+                          \n",
      "                                            *                                 \n",
      "                                            *                                 \n",
      "                                            *                                 \n",
      "                                    +------------+                            \n",
      "                                    | _add_input |**                          \n",
      "                                    +------------+  ******                    \n",
      "                                 ***                      *****               \n",
      "                              ***                              *****          \n",
      "                            **                                      ******    \n",
      "                  +--------------+                                        *** \n",
      "                  | Lambda(_add) |                                          * \n",
      "                  +--------------+                                          * \n",
      "                          *                                                 * \n",
      "                          *                                                 * \n",
      "                          *                                                 * \n",
      "                  +-------------+                                           * \n",
      "                  | Lambda(...) |                                           * \n",
      "                  +-------------+                                           * \n",
      "                          *                                                 * \n",
      "                          *                                                 * \n",
      "                          *                                                 * \n",
      "                  +--------------+                                          * \n",
      "                  | LambdaOutput |                                          * \n",
      "                  +--------------+                                          * \n",
      "                          *                                                 * \n",
      "                          *                                                 * \n",
      "                          *                                                 * \n",
      "                  +-------------+                                           * \n",
      "                  | LambdaInput |                                           * \n",
      "                  +-------------+                                           * \n",
      "                          *                                                 * \n",
      "                          *                                                 * \n",
      "                          *                                                 * \n",
      "            +--------------------------+                                    * \n",
      "            | Lambda(lambda y: y < 10) |                                    * \n",
      "            +--------------------------+                                    * \n",
      "                          *                                                 * \n",
      "                          *                                                 * \n",
      "                          *                                                 * \n",
      "                  +--------------+                                          * \n",
      "                  | LambdaOutput |                                          * \n",
      "                  +--------------+                                          * \n",
      "                 **              **                                         * \n",
      "              ***                  ***                                      * \n",
      "            **                        **                                    * \n",
      "+----------------+              +------------------+                        * \n",
      "| LoopbackOutput |              | PassthroughInput |                        * \n",
      "+----------------+              +------------------+                        * \n",
      "                                          *                                 * \n",
      "                                          *                                 * \n",
      "                                          *                                 * \n",
      "                                  +-------------+                          ** \n",
      "                                  | Passthrough |                        **   \n",
      "                                  +-------------+*                    ***     \n",
      "                                                  ***              ***        \n",
      "                                                     ***         **           \n",
      "                                                        **     **             \n",
      "                                                  +-------------------+       \n",
      "                                                  | PassthroughOutput |       \n",
      "                                                  +-------------------+       \n"
     ]
    }
   ],
   "source": [
    "print(runnable_loopback.get_graph().draw_ascii())"
   ]
  },
  {
   "cell_type": "markdown",
   "metadata": {},
   "source": [
    "`RunnableLoopback` also provides a class method which create an instance of `RunnableLoopback` with a specified number of loopbacks.\n",
    "\n",
    "The following example let you know how to create a runnable which prints the current time 5 times."
   ]
  },
  {
   "cell_type": "code",
   "execution_count": 10,
   "metadata": {},
   "outputs": [],
   "source": [
    "runnable_loopback_with_n_times = RunnableLoopback.with_n_loop(\n",
    "    n=5,\n",
    "    runnable=(\n",
    "        RunnableLambda(lambda *args: dt.now())  # get the current time\n",
    "        | RunnableLambda(lambda x: print(f'current output of the runnable: {x}') or x)  # print x and return x\n",
    "    ),\n",
    "    loopback=RunnablePassthrough(),  # runnable which transform the output of the runnable to the input of the runnable\n",
    ")"
   ]
  },
  {
   "cell_type": "code",
   "execution_count": 11,
   "metadata": {},
   "outputs": [
    {
     "name": "stdout",
     "output_type": "stream",
     "text": [
      "current output of the runnable: 2024-05-20 23:52:13.702129\n",
      "current output of the runnable: 2024-05-20 23:52:13.912347\n",
      "current output of the runnable: 2024-05-20 23:52:14.134929\n",
      "current output of the runnable: 2024-05-20 23:52:14.346604\n",
      "current output of the runnable: 2024-05-20 23:52:14.574298\n"
     ]
    },
    {
     "data": {
      "text/plain": [
       "datetime.datetime(2024, 5, 20, 23, 52, 14, 574298)"
      ]
     },
     "execution_count": 11,
     "metadata": {},
     "output_type": "execute_result"
    }
   ],
   "source": [
    "runnable_loopback_with_n_times.invoke(1)"
   ]
  },
  {
   "cell_type": "markdown",
   "metadata": {},
   "source": [
    "### `runnable_family.gacha`\n",
    "\n",
    "This subpackage provides `RunnableGacha`.\n",
    "\n",
    "`RunnableGacha` helps you run a stochastic runnable like `ChatOpenAI` without `seed` many times."
   ]
  },
  {
   "cell_type": "markdown",
   "metadata": {},
   "source": [
    "The following example shows how to run `ChatOpenAI(model='gpt-4-turbo', temperature=1).invoke` 3 times."
   ]
  },
  {
   "cell_type": "code",
   "execution_count": 12,
   "metadata": {},
   "outputs": [],
   "source": [
    "runnable_gacha = RunnableGacha(\n",
    "    runnable=(\n",
    "        ChatOpenAI(model='gpt-4-turbo', temperature=1)\n",
    "        | RunnableLambda(attrgetter('content'))\n",
    "    ),\n",
    "    n=3,\n",
    ")"
   ]
  },
  {
   "cell_type": "code",
   "execution_count": 13,
   "metadata": {},
   "outputs": [
    {
     "data": {
      "text/plain": [
       "[\"The question of the meaning of life has been a central and enduring inquiry in philosophy, theology, science, and literature. It asks what the purpose of life is, or why we exist. The answer to this question varies greatly depending on cultural, individual, philosophical, and religious contexts. Here are some perspectives:\\n\\n1. **Religious and Spiritual Perspectives**: Many theistic religions, such as Christianity, Islam, and Hinduism, often claim that life's purpose is to serve and honor God. In these views, life is a test, a preparation for the afterlife, or a chance to grow spiritually.\\n\\n2. **Philosophical Perspectives**: Philosophers have approached this question in varied ways:\\n   - **Existentialists** like Jean-Paul Sartre and Albert Camus argue that life initially has no meaning, and it is up to each individual to give their own life meaning through their choices and actions.\\n   - **Nihilists**, such as Friedrich Nietzsche at times, suggest that life inherently has no meaning, and any search for meaning is inherently futile.\\n   - **Utilitarian** philosophy, like that proposed by Jeremy Bentham and John Stuart Mill, argues that the meaning of life is to maximize happiness and reduce suffering.\\n\\n3. **Scientific Perspectives**: From a scientific point of view, life does not have an inherent purpose, but is rather a product of natural processes and evolution. Biologists might define the purpose of an individual organism as simply to survive and reproduce, ensuring the survival of its genes.\\n\\n4. **Humanistic Perspectives**: Humanism, which can be secular or religious, suggests that the meaning of life is to seek happiness and to help others achieve it. Humanists focus on the value and agency of human beings individually and collectively.\\n\\n5. **Personal Meaning**: Many people find the meaning of life through personal fulfillment, relationships, love, pursuit of knowledge, or experiences that bring joy and satisfaction.\\n\\nUltimately, the meaning of life varies hugely from person to person. It can be a deeply personal question that each individual may answer differently based on their background, experiences, and beliefs.\",\n",
       " 'The question \"What is the meaning of life?\" is one of the most profound and enduring questions humanity has ever contemplated. It addresses the purpose, significance, and overarching goal of human existence. The answers to this question can vary dramatically depending on cultural, philosophical, religious, and individual perspectives. Here are a few interpretations across different domains:\\n\\n1. **Religious Perspectives**:\\n    - **Christianity**: Life\\'s purpose is to serve and honor God, ultimately aiming for an eternal life with Him.\\n    - **Islam**: Similar to Christianity, the purpose is to serve Allah and live according to the Qur\\'an\\'s teachings, striving for paradise after death.\\n    - **Buddhism**: The focus is on overcoming suffering and the cycle of death and rebirth (samsara), attaining enlightenment (Nirvana).\\n    - **Hinduism**: Life is seen as a cycle of birth, death, and rebirth (samsara), with the ultimate goal being liberation (Moksha) from this cycle through righteous living and spiritual knowledge.\\n\\n2. **Philosophical Perspectives**:\\n    - **Existentialism**: Suggests that life initially has no inherent meaning; it is each individual\\'s responsibility to give their own life meaning through their choices and actions.\\n    - **Nihilism**: Argues that life has no inherent meaning at all, and any imposed meanings are purely subjective.\\n    - **Utilitarianism**: Proposes that the meaning of life is to maximize happiness and reduce suffering for the greatest number of people.\\n\\n3. **Scientific Perspectives**:\\n    - From a biological standpoint, the meaning of life could be simply to survive and reproduce, ensuring the continuation of one\\'s genetic material.\\n    - Some scientists and thinkers propose that human life is part of a larger process of the universe experiencing itself and evolving towards higher complexity.\\n\\n4. **Individual Perspectives**:\\n    - Many find meaning in life through personal achievements, relationships, and the pursuit of happiness.\\n    - Others derive purpose from striving to make a positive impact on society and the people around them.\\n\\nBecause this question touches on such deep and personal beliefs, the \"meaning of life\" can be profoundly different from person to person. It often involves a combination of aforementioned views and is influenced by one’s life experiences, cultural background, and personal reflections.',\n",
       " 'The question \"What is the meaning of life?\" is one of the most profound and enduring queries posed by humans throughout history. It touches on philosophical, theological, scientific, and existential thought. The answer can vary greatly depending on cultural, individual, spiritual, and philosophical perspectives.\\n\\n1. **Philosophical Views**: Many philosophers have tackled this question through the ages. Existentialists like Sartre and Camus suggest that life inherently has no meaning, and it is up to each individual to give it meaning through their actions and choices. In contrast, philosophers like Plato or Aristotle viewed the meaning of life in terms of achieving a form of higher understanding or fulfilling a specific role in society.\\n\\n2. **Religious and Spiritual Interpretations**: Most world religions provide their own answers to this question. For Christians, the meaning of life can be to serve God and achieve salvation according to the teachings of Jesus Christ. In Buddhism, the purpose might be understood as achieving Enlightenment and escaping the cycles of rebirth and suffering. Hinduism might interpret the meaning of life as fulfilling one\\'s dharma (duty), achieving moksha (liberation from the cycle of life and death), and living according to the principles of righteousness.\\n\\n3. **Scientific Perspectives**: From a scientific standpoint, life can be seen as a product of evolution by natural selection. This view suggests that the \"meaning\" of life is survival and reproduction, contributing to the genetic continuity of a species. Some scientists and thinkers, like Richard Dawkins, discuss this in terms of genes striving to replicate themselves.\\n\\n4. **Individualistic Approach**: On a personal level, many people find the meaning of life through individual experiences, relationships, achievements, and the pursuit of happiness. Some may find purpose in art, helping others, pursuing knowledge, or simply enjoying the sensory experiences of being alive.\\n\\n5. **Nihilistic Viewpoint**: Nihilism argues that life is without objective meaning, purpose, or intrinsic value. However, even within such a framework, individuals can find subjective meaning through their own defined purposes and values.\\n\\nIn summary, the meaning of life varies from individual to individual, and culture to culture. It can encompass a wide range of beliefs, values, and purposes. Each person may come to their own understanding of this profound question through introspection, experience, and personal growth.']"
      ]
     },
     "execution_count": 13,
     "metadata": {},
     "output_type": "execute_result"
    }
   ],
   "source": [
    "runnable_gacha.invoke('What is the meaning of life?')"
   ]
  },
  {
   "cell_type": "markdown",
   "metadata": {},
   "source": [
    "### `runnable_family.runnable_diff`\n",
    "\n",
    "This subpackage provides `RunnableDiff`.\n",
    "\n",
    "`RunnableDiff` helps you compare the outputs of two runnables."
   ]
  },
  {
   "cell_type": "markdown",
   "metadata": {},
   "source": [
    "Here is an example that points out the shortcomings of the output of 'gpt-3.5-turbo' relative to the output of 'gpt-4-turbo'."
   ]
  },
  {
   "cell_type": "code",
   "execution_count": 14,
   "metadata": {},
   "outputs": [],
   "source": [
    "runnable_diff = RunnableDiff(\n",
    "    runnable1=(\n",
    "        ChatOpenAI(model='gpt-4-turbo', temperature=0.8, model_kwargs={'seed': 1000})\n",
    "        | RunnableLambda(attrgetter('content'))\n",
    "    ),\n",
    "    runnable2=(\n",
    "        ChatOpenAI(model='gpt-3.5-turbo', temperature=0.8, model_kwargs={'seed': 1000})\n",
    "        | RunnableLambda(attrgetter('content'))\n",
    "    ),\n",
    "    diff=(\n",
    "        RunnableLambda(lambda itr: '\\n'.join([\n",
    "            f'1. ```\\n{itr[0]}\\n```',\n",
    "            f'2. ```\\n{itr[1]}\\n```',\n",
    "            '\\n',\n",
    "            'The former is thought to be better than the latter.',\n",
    "            'What do you think is insufficient in the latter?',\n",
    "        ]))\n",
    "        | RunnableLambda(lambda x: print(x) or x)\n",
    "        | ChatOpenAI(model='gpt-4-turbo', temperature=0.8, model_kwargs={'seed': 1234})\n",
    "    )\n",
    ")"
   ]
  },
  {
   "cell_type": "code",
   "execution_count": 15,
   "metadata": {},
   "outputs": [
    {
     "name": "stdout",
     "output_type": "stream",
     "text": [
      "1. ```\n",
      "The question of the meaning of life has been a central topic in philosophy, religion, and science for centuries, and it encompasses a broad spectrum of perspectives.\n",
      "\n",
      "1. **Philosophical Perspectives**: Philosophers have debated the meaning of life from various angles. Some existentialists, like Jean-Paul Sartre, argue that life has no inherent meaning, and it is up to each individual to give meaning to their own life through their choices and actions. In contrast, philosophers like Aristotle have posited that the purpose of life is to achieve eudaimonia, often translated as \"flourishing\" or \"happiness,\" through the cultivation of virtues.\n",
      "\n",
      "2. **Religious Perspectives**: Most religions offer their own answers to the meaning of life:\n",
      "   - **Christianity** traditionally teaches that the purpose of life is to love and serve God and to receive eternal life through Jesus Christ.\n",
      "   - **Islam** similarly emphasizes submission to Allah's will and living according to the Quran's teachings to achieve paradise after death.\n",
      "   - **Hinduism** presents a complex framework involving dharma (duty/ethics), artha (prosperity), kama (desires), and moksha (liberation) as the goals of human life.\n",
      "   - **Buddhism** focuses on overcoming suffering through ethical living, meditation, and insight as a path to enlightenment.\n",
      "\n",
      "3. **Scientific Perspectives**: From a scientific viewpoint, the meaning of life can often focus on evolutionary biology, which suggests that the purpose of life is to survive and reproduce. However, many scientists and philosophers argue that this does not address the philosophical or existential meanings attributed to human life, which are concerned with ethics, consciousness, and personal fulfillment.\n",
      "\n",
      "4. **Personal Perspectives**: Many people find meaning through personal fulfillment, which can include pursuing passions, careers, relationships, and personal achievements. This view emphasizes that individual experiences, relationships, and goals can give profound personal significance to life.\n",
      "\n",
      "In summary, the meaning of life varies greatly depending on cultural, individual, philosophical, and religious contexts. It can range from specific religious duties to more general concepts like happiness, fulfillment, or ethical living. Ultimately, it's a deeply personal inquiry that each individual might answer differently based on their beliefs, values, and experiences.\n",
      "```\n",
      "2. ```\n",
      "The meaning of life is a deeply philosophical question that has been debated for centuries. Different cultures, religions, and individuals have different beliefs about the purpose and significance of life. Some believe that the meaning of life is to seek happiness, fulfillment, or spiritual enlightenment, while others believe that it is to fulfill certain duties or obligations. Ultimately, the meaning of life is a deeply personal and subjective question that each individual must grapple with and find their own answer to.\n",
      "```\n",
      "\n",
      "\n",
      "The former is thought to be better than the latter.\n",
      "What do you think is insufficient in the latter?\n",
      "The latter passage, while succinct and providing a broad overview, lacks several key elements that make the former more comprehensive and effective:\n",
      "\n",
      "1. **Detail and Specificity**: The former passage provides specific examples and mentions notable philosophers and religious beliefs, which help to ground the discussion in concrete terms. It references existentialists like Jean-Paul Sartre, Aristotle, and outlines perspectives from major world religions such as Christianity, Islam, Hinduism, and Buddhism. This detail not only enriches the reader's understanding but also demonstrates the diversity and depth of the various perspectives on the meaning of life.\n",
      "\n",
      "2. **Contextual Depth**: The first text delves into specific philosophical arguments and religious doctrines, offering a deeper insight into each perspective. For instance, it explains the concept of eudaimonia in Aristotle's philosophy and discusses the role of dharma, artha, kama, and moksha in Hinduism. This depth is missing in the second passage, which uses only general terms like \"happiness, fulfillment, or spiritual enlightenment.\"\n",
      "\n",
      "3. **Coverage of Scientific Perspective**: The first passage includes a scientific perspective, discussing evolutionary biology and its implications for understanding the meaning of life. This addition broadens the scope of the discussion, acknowledging the role of science in contemporary debates about life’s purpose. The latter passage omits this perspective entirely, which could be seen as a significant oversight given the influence of scientific understanding on modern thought.\n",
      "\n",
      "4. **Examples of Personal Perspectives**: The former text also touches on how individuals find personal meaning through passions, careers, relationships, and achievements. This personal perspective adds another layer to the discussion, illustrating how the meaning of life can also be a private and subjective experience. The second passage, while mentioning personal and subjective interpretations, does not provide examples or elaborate on what those might look like.\n",
      "\n",
      "5. **Structured Argumentation**: The first passage is well-structured, categorizing different perspectives into philosophical, religious, scientific, and personal. This organization helps the reader to navigate the complex topic more easily. The latter passage, although coherent, lacks this clear structure, which might make it harder for readers to distinguish between different kinds of perspectives.\n",
      "\n",
      "In summary, the latter passage, although it captures the essence of the debate on the meaning of life, does so in a manner that is too general and lacking in the richness of detail and structured argumentation that the former provides. This makes the former a more informative, engaging, and comprehensive exploration of the topic.\n"
     ]
    }
   ],
   "source": [
    "print(runnable_diff.invoke('What is the meaning of life?').content)"
   ]
  },
  {
   "cell_type": "markdown",
   "metadata": {},
   "source": [
    "### `runnable_family.self_consistent`\n",
    "\n",
    "This subpackage provides `RunnableSelfConsistent`.\n",
    "\n",
    "`RunnableSelfConsistent` is a `Runnable` class which implements \"self-consisntent\" approach.\n",
    "\n",
    "\"self-consisntent\" approach, suggested in https://arxiv.org/pdf/2203.11171.pdf, selects the most consistent answer by marginalizing out a diverse set of reasoning paths."
   ]
  },
  {
   "cell_type": "markdown",
   "metadata": {},
   "source": [
    "The following example is equievalent to the example in Figure 1 in https://arxiv.org/pdf/2203.11171.pdf ."
   ]
  },
  {
   "cell_type": "code",
   "execution_count": 16,
   "metadata": {},
   "outputs": [],
   "source": [
    "class IntegerAnswer(BaseModel):\n",
    "    answer: int\n",
    "\n",
    "\n",
    "output_parser = PydanticOutputParser(pydantic_object=IntegerAnswer)\n",
    "prompt = ChatPromptTemplate.from_messages([\n",
    "    (\"system\", '{format_instruction}'),\n",
    "    (\"human\", \"{input}\"),\n",
    "])\n",
    "\n",
    "runnable_self_consistent = (\n",
    "    RunnablePassthrough().assign(format_instruction=RunnableConstant(output_parser.get_format_instructions()))\n",
    "    | prompt\n",
    "    | RunnableSelfConsistent(\n",
    "        runnables=[\n",
    "            ChatOpenAI(model='gpt-4-turbo', temperature=0.8, model_kwargs={'seed': 1000}) | output_parser | RunnableLambda(attrgetter('answer')),\n",
    "            ChatOpenAI(model='gpt-4-turbo', temperature=0.8, model_kwargs={'seed': 1235}) | output_parser | RunnableLambda(attrgetter('answer')),\n",
    "            ChatOpenAI(model='gpt-3.5-turbo', temperature=0.8, model_kwargs={'seed': 2500}) | output_parser | RunnableLambda(attrgetter('answer')),\n",
    "        ],\n",
    "        aggregate=(\n",
    "            RunnableLambda(lambda itr: print(itr) or itr)  # print the outputs of the runnables\n",
    "            | RunnableLambda(lambda itr: Counter(itr).most_common(1)[0][0])  # count the most common answer\n",
    "        ),\n",
    "    )\n",
    ")"
   ]
  },
  {
   "cell_type": "code",
   "execution_count": 17,
   "metadata": {},
   "outputs": [
    {
     "name": "stdout",
     "output_type": "stream",
     "text": [
      "[18, 18, 18]\n"
     ]
    },
    {
     "data": {
      "text/plain": [
       "18"
      ]
     },
     "execution_count": 17,
     "metadata": {},
     "output_type": "execute_result"
    }
   ],
   "source": [
    "runnable_self_consistent.invoke(dict(input='\\n'.join([\n",
    "    'Q: If there are 3 cars in the parking lot and 2 more cars arrive, how many cars are in the parking lot?',\n",
    "    'A: There are 3 cars in the parking lot already. 2 more arrive. Now there are 3 + 2 = 5 cars. The answer is 5.',\n",
    "    '\\n',\n",
    "    'Q: Janet\\'s ducks lay 16 eggs per day. '\n",
    "    'She eats three for breakfast every morning and bakes muffins for her friends every day with four. '\n",
    "    'She sells the remainder for $2 per egg. How much does she make every day?',\n",
    "    'A: ',\n",
    "])))"
   ]
  },
  {
   "cell_type": "markdown",
   "metadata": {},
   "source": [
    "### `runnable_family.self_refine`\n",
    "\n",
    "This subpackage provides `RunnableSelfRefine`.\n",
    "\n",
    "`RunnableSelfRefine` is a `Runnable` which implements 'self-refine' approach, suggested in https://arxiv.org/pdf/2303.17651.pdf .\n",
    "\n",
    "`RunnableSelfRefine` helps you refine the output automatically."
   ]
  },
  {
   "cell_type": "markdown",
   "metadata": {},
   "source": [
    "The following example is similar to the example in Figure 1 (d)(e)(f) in https://arxiv.org/pdf/2303.17651.pdf .\n",
    "\n",
    "In this example, after generating a python code to calculate the sum of 1 to $n$, it is automatically refined in a point of view of the efficiency."
   ]
  },
  {
   "cell_type": "code",
   "execution_count": 18,
   "metadata": {},
   "outputs": [],
   "source": [
    "runnable_self_refine = RunnableSelfRefine(\n",
    "    runnable=(\n",
    "        ChatOpenAI(model='gpt-3.5-turbo', temperature=0.8, model_kwargs={'seed': 1000})\n",
    "        | RunnableLambda(lambda x: print('==========\\n'+x.content) or x)  # print the output\n",
    "    ),\n",
    "    feedback=(\n",
    "        ChatPromptTemplate.from_messages([(\n",
    "            'human',\n",
    "            '\\n'.join([\n",
    "                'The user requires a code that satisfies the following',\n",
    "                '```',\n",
    "                '{input}',\n",
    "                '```',\n",
    "                'The service is attempting to return the following code in response to the above request:',\n",
    "                '```',\n",
    "                '{output}',\n",
    "                '```',\n",
    "                '\\n',\n",
    "                'Please point out the issues with this code in terms of computational efficiency.',\n",
    "            ])\n",
    "        )])\n",
    "        | ChatOpenAI(model='gpt-3.5-turbo', temperature=0.8, model_kwargs={'seed': 1234})\n",
    "        | RunnableLambda(lambda x: print('==========\\n'+x.content) or x)  # print the feedback\n",
    "    ),\n",
    "    refine=(\n",
    "        ChatPromptTemplate.from_messages([(\n",
    "            'human',\n",
    "            '\\n'.join([\n",
    "                'The user requires a code that satisfies the following',\n",
    "                '```',\n",
    "                '{input}',\n",
    "                '```',\n",
    "                'The service is attempting to return the following code in response to the above request:',\n",
    "                '```',\n",
    "                '{output}',\n",
    "                '```',\n",
    "                'For the above output code, the user give the following feedback:',\n",
    "                '```',\n",
    "                '{feedback}',\n",
    "                '```',\n",
    "                '\\n',\n",
    "                'Please refine the code to address the user\\'s feedback.',\n",
    "            ])\n",
    "        )])\n",
    "        | ChatOpenAI(model='gpt-3.5-turbo', temperature=0.8, model_kwargs={'seed': 1234})\n",
    "        | RunnableLambda(lambda x: print('==========\\n'+x.content) or x)  # print the refined code\n",
    "    ),\n",
    "    input_key='input',  # key to access the input. In this case, the default value will be used.\n",
    "    output_key='output',  # key to access the output. In this case, the default value will be used.\n",
    "    feedback_key='feedback',  # key to access the feedback. In this case, the default value will be used.\n",
    ") | RunnableLambda(attrgetter('content'))"
   ]
  },
  {
   "cell_type": "code",
   "execution_count": 19,
   "metadata": {},
   "outputs": [
    {
     "name": "stdout",
     "output_type": "stream",
     "text": [
      "==========\n",
      "def sum_of_numbers(n):\n",
      "    sum = 0\n",
      "    for i in range(1, n+1):\n",
      "        sum += i\n",
      "    return sum\n",
      "\n",
      "n = 10\n",
      "result = sum_of_numbers(n)\n",
      "print(f\"The sum of numbers from 1 to {n} is: {result}\")\n",
      "==========\n",
      "One potential issue with this code in terms of computational efficiency is that it uses a simple loop to iterate through the numbers from 1 to n and calculate the sum. This approach has a time complexity of O(n) since it involves iterating through n numbers.\n",
      "\n",
      "A more efficient approach would be to use the formula for the sum of the first n natural numbers, which is (n*(n+1))/2. This formula has a time complexity of O(1) as it directly calculates the sum without the need for iteration.\n",
      "\n",
      "Therefore, for large values of n, using the formula for the sum of natural numbers would be more computationally efficient than the provided code with a loop.\n",
      "==========\n",
      "Here is a refined version of the code that calculates the sum of 1, 2, ..., n using the formula (n*(n+1))/2 for better computational efficiency:\n",
      "\n",
      "```python\n",
      "def sum_of_numbers(n):\n",
      "    return (n*(n+1)) // 2\n",
      "\n",
      "n = 10\n",
      "result = sum_of_numbers(n)\n",
      "print(f\"The sum of numbers from 1 to {n} is: {result}\")\n",
      "```\n",
      "\n",
      "This code directly calculates the sum of numbers from 1 to n using the formula for the sum of the first n natural numbers, which has a time complexity of O(1) and is more computationally efficient for large values of n compared to iterating through the numbers.\n"
     ]
    },
    {
     "data": {
      "text/plain": [
       "'Here is a refined version of the code that calculates the sum of 1, 2, ..., n using the formula (n*(n+1))/2 for better computational efficiency:\\n\\n```python\\ndef sum_of_numbers(n):\\n    return (n*(n+1)) // 2\\n\\nn = 10\\nresult = sum_of_numbers(n)\\nprint(f\"The sum of numbers from 1 to {n} is: {result}\")\\n```\\n\\nThis code directly calculates the sum of numbers from 1 to n using the formula for the sum of the first n natural numbers, which has a time complexity of O(1) and is more computationally efficient for large values of n compared to iterating through the numbers.'"
      ]
     },
     "execution_count": 19,
     "metadata": {},
     "output_type": "execute_result"
    }
   ],
   "source": [
    "runnable_self_refine.invoke('Generate a python code which calculates the sum of 1, 2, ..., n.')"
   ]
  },
  {
   "cell_type": "markdown",
   "metadata": {},
   "source": [
    "### `runnable_family.self_translate`\n",
    "\n",
    "This subpackage provides `RunnableSelfTranslate` based on https://arxiv.org/pdf/2308.01223.pdf .\n",
    "\n",
    "`RunnableSelfTranslate` enables you to the following steps:\n",
    "\n",
    "1. translate the input into another language;\n",
    "2. infer the output with the translated input;\n",
    "3. translate the output into the original language;"
   ]
  },
  {
   "cell_type": "markdown",
   "metadata": {},
   "source": [
    "Here is an example of `RunnableSelfTranslate` with a Japanese traditional math problem."
   ]
  },
  {
   "cell_type": "code",
   "execution_count": 20,
   "metadata": {},
   "outputs": [],
   "source": [
    "runnable_self_translate = RunnableSelfTranslate(\n",
    "    translater=(\n",
    "        RunnableLambda(lambda x: f'Translate the following text to Japanese:\\n```\\n{x}\\n```')\n",
    "        | ChatOpenAI(model='gpt-3.5-turbo', temperature=0.8, model_kwargs={'seed': 1000})\n",
    "        | RunnableLambda(attrgetter('content'))\n",
    "        | RunnableLambda(lambda x: print('==========\\n'+x) or x)\n",
    "    ),\n",
    "    inverse_translater=(\n",
    "        RunnableLambda(lambda x: f'Translate the following text to English:\\n```\\n{x}\\n```')\n",
    "        | ChatOpenAI(model='gpt-3.5-turbo', temperature=0.8, model_kwargs={'seed': 1000})\n",
    "        | RunnableLambda(attrgetter('content'))\n",
    "        | RunnableLambda(lambda x: print('==========\\n'+x) or x)\n",
    "    ),\n",
    "    runnable=(\n",
    "        ChatOpenAI(model='gpt-3.5-turbo', temperature=0.8, model_kwargs={'seed': 1000})\n",
    "        | RunnableLambda(attrgetter('content'))\n",
    "        | RunnableLambda(lambda x: print('==========\\n'+x) or x)\n",
    "    ),\n",
    ")"
   ]
  },
  {
   "cell_type": "code",
   "execution_count": 21,
   "metadata": {},
   "outputs": [
    {
     "name": "stdout",
     "output_type": "stream",
     "text": [
      "==========\n",
      "合計100本のツルとカメがいます。合計の足の数が274本の場合、ツルとカメは合計で何匹いますか？「ツルカメ算」を使ってステップバイステップで解いてください。\n",
      "==========\n",
      "「ツルカメ算」とは、ツルが2本、カメが4本の足を持つと仮定して、それぞれの動物の数を求める方法です。\n",
      "\n",
      "1. ツルの数をx、カメの数をyとすると、以下の2つの方程式が成り立ちます。\n",
      "x + y = 100 （合計の動物の数が100匹）\n",
      "2x + 4y = 274 （合計の足の数が274本）\n",
      "\n",
      "2. 上記の方程式を解くために、まず1番目の方程式を変形してxをyについて表します。\n",
      "x = 100 - y\n",
      "\n",
      "3. 次に、2番目の方程式にxの代入を行います。\n",
      "2(100 - y) + 4y = 274\n",
      "200 - 2y + 4y = 274\n",
      "2y = 74\n",
      "y = 37\n",
      "\n",
      "4. カメの数が37匹なので、ツルの数は以下のようにして求めます。\n",
      "x = 100 - y\n",
      "x = 100 - 37\n",
      "x = 63\n",
      "\n",
      "したがって、ツルとカメの合計は63匹 + 37匹 = 100匹となります。\n",
      "==========\n",
      "The \"Crane and Tortoise Puzzle\" is a method for determining the number of each animal, assuming that a crane has 2 legs and a tortoise has 4 legs.\n",
      "\n",
      "1. Let x be the number of cranes and y be the number of tortoises, then the following two equations hold.\n",
      "x + y = 100 (total number of animals is 100)\n",
      "2x + 4y = 274 (total number of legs is 274)\n",
      "\n",
      "2. To solve the above equations, first we rearrange the first equation to express x in terms of y.\n",
      "x = 100 - y\n",
      "\n",
      "3. Next, we substitute x into the second equation.\n",
      "2(100 - y) + 4y = 274\n",
      "200 - 2y + 4y = 274\n",
      "2y = 74\n",
      "y = 37\n",
      "\n",
      "4. Since the number of tortoises is 37, we can determine the number of cranes as follows.\n",
      "x = 100 - y\n",
      "x = 100 - 37\n",
      "x = 63\n",
      "\n",
      "Therefore, the total number of cranes and tortoises is 63 cranes + 37 tortoises = 100 animals.\n"
     ]
    },
    {
     "data": {
      "text/plain": [
       "'The \"Crane and Tortoise Puzzle\" is a method for determining the number of each animal, assuming that a crane has 2 legs and a tortoise has 4 legs.\\n\\n1. Let x be the number of cranes and y be the number of tortoises, then the following two equations hold.\\nx + y = 100 (total number of animals is 100)\\n2x + 4y = 274 (total number of legs is 274)\\n\\n2. To solve the above equations, first we rearrange the first equation to express x in terms of y.\\nx = 100 - y\\n\\n3. Next, we substitute x into the second equation.\\n2(100 - y) + 4y = 274\\n200 - 2y + 4y = 274\\n2y = 74\\ny = 37\\n\\n4. Since the number of tortoises is 37, we can determine the number of cranes as follows.\\nx = 100 - y\\nx = 100 - 37\\nx = 63\\n\\nTherefore, the total number of cranes and tortoises is 63 cranes + 37 tortoises = 100 animals.'"
      ]
     },
     "execution_count": 21,
     "metadata": {},
     "output_type": "execute_result"
    }
   ],
   "source": [
    "runnable_self_translate.invoke(\n",
    "    'There are a total of 100 vines and turtles. '\n",
    "    'If the total number of legs is 274, how many cranes and turtles are there? '\n",
    "    'Use \"Tsuru-Kame zan\" step-by-step.'\n",
    ")"
   ]
  },
  {
   "cell_type": "code",
   "execution_count": null,
   "metadata": {},
   "outputs": [],
   "source": []
  }
 ],
 "metadata": {
  "kernelspec": {
   "display_name": "venv",
   "language": "python",
   "name": "python3"
  },
  "language_info": {
   "codemirror_mode": {
    "name": "ipython",
    "version": 3
   },
   "file_extension": ".py",
   "mimetype": "text/x-python",
   "name": "python",
   "nbconvert_exporter": "python",
   "pygments_lexer": "ipython3",
   "version": "3.10.11"
  }
 },
 "nbformat": 4,
 "nbformat_minor": 2
}
